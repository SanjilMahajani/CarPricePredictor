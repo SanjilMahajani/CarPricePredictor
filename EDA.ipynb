{
 "cells": [
  {
   "cell_type": "markdown",
   "metadata": {},
   "source": [
    "IN THIS SECTION WE WILL TRY TO EXPLORE RELATIONSHIPS BETWEEN DIFFERENT VARIABLES, WILL TRY TO FIND THE OUTLIERS ETC."
   ]
  },
  {
   "cell_type": "code",
   "execution_count": 104,
   "metadata": {},
   "outputs": [],
   "source": [
    "import pandas as pd\n",
    "df=pd.read_csv('cleansed_merc.csv')"
   ]
  },
  {
   "cell_type": "code",
   "execution_count": 105,
   "metadata": {},
   "outputs": [
    {
     "data": {
      "text/html": [
       "<div>\n",
       "<style scoped>\n",
       "    .dataframe tbody tr th:only-of-type {\n",
       "        vertical-align: middle;\n",
       "    }\n",
       "\n",
       "    .dataframe tbody tr th {\n",
       "        vertical-align: top;\n",
       "    }\n",
       "\n",
       "    .dataframe thead th {\n",
       "        text-align: right;\n",
       "    }\n",
       "</style>\n",
       "<table border=\"1\" class=\"dataframe\">\n",
       "  <thead>\n",
       "    <tr style=\"text-align: right;\">\n",
       "      <th></th>\n",
       "      <th>model</th>\n",
       "      <th>year</th>\n",
       "      <th>price</th>\n",
       "      <th>transmission</th>\n",
       "      <th>mileage</th>\n",
       "      <th>fuelType</th>\n",
       "      <th>mpg</th>\n",
       "      <th>engineSize</th>\n",
       "    </tr>\n",
       "  </thead>\n",
       "  <tbody>\n",
       "    <tr>\n",
       "      <th>0</th>\n",
       "      <td>SLK</td>\n",
       "      <td>2005</td>\n",
       "      <td>5200</td>\n",
       "      <td>Automatic</td>\n",
       "      <td>63000</td>\n",
       "      <td>Petrol</td>\n",
       "      <td>32.1</td>\n",
       "      <td>1.8</td>\n",
       "    </tr>\n",
       "    <tr>\n",
       "      <th>1</th>\n",
       "      <td>S Class</td>\n",
       "      <td>2017</td>\n",
       "      <td>34948</td>\n",
       "      <td>Automatic</td>\n",
       "      <td>27000</td>\n",
       "      <td>Hybrid</td>\n",
       "      <td>61.4</td>\n",
       "      <td>2.1</td>\n",
       "    </tr>\n",
       "    <tr>\n",
       "      <th>2</th>\n",
       "      <td>SL CLASS</td>\n",
       "      <td>2016</td>\n",
       "      <td>49948</td>\n",
       "      <td>Automatic</td>\n",
       "      <td>6200</td>\n",
       "      <td>Petrol</td>\n",
       "      <td>28.0</td>\n",
       "      <td>5.5</td>\n",
       "    </tr>\n",
       "    <tr>\n",
       "      <th>3</th>\n",
       "      <td>G Class</td>\n",
       "      <td>2016</td>\n",
       "      <td>61948</td>\n",
       "      <td>Automatic</td>\n",
       "      <td>16000</td>\n",
       "      <td>Petrol</td>\n",
       "      <td>30.4</td>\n",
       "      <td>4.0</td>\n",
       "    </tr>\n",
       "    <tr>\n",
       "      <th>4</th>\n",
       "      <td>G Class</td>\n",
       "      <td>2016</td>\n",
       "      <td>73948</td>\n",
       "      <td>Automatic</td>\n",
       "      <td>4000</td>\n",
       "      <td>Petrol</td>\n",
       "      <td>30.1</td>\n",
       "      <td>4.0</td>\n",
       "    </tr>\n",
       "    <tr>\n",
       "      <th>...</th>\n",
       "      <td>...</td>\n",
       "      <td>...</td>\n",
       "      <td>...</td>\n",
       "      <td>...</td>\n",
       "      <td>...</td>\n",
       "      <td>...</td>\n",
       "      <td>...</td>\n",
       "      <td>...</td>\n",
       "    </tr>\n",
       "    <tr>\n",
       "      <th>12855</th>\n",
       "      <td>C Class</td>\n",
       "      <td>2020</td>\n",
       "      <td>35999</td>\n",
       "      <td>Automatic</td>\n",
       "      <td>500</td>\n",
       "      <td>Diesel</td>\n",
       "      <td>55.4</td>\n",
       "      <td>2.0</td>\n",
       "    </tr>\n",
       "    <tr>\n",
       "      <th>12856</th>\n",
       "      <td>B Class</td>\n",
       "      <td>2020</td>\n",
       "      <td>24699</td>\n",
       "      <td>Automatic</td>\n",
       "      <td>2500</td>\n",
       "      <td>Diesel</td>\n",
       "      <td>55.4</td>\n",
       "      <td>2.0</td>\n",
       "    </tr>\n",
       "    <tr>\n",
       "      <th>12857</th>\n",
       "      <td>GLC Class</td>\n",
       "      <td>2019</td>\n",
       "      <td>30999</td>\n",
       "      <td>Automatic</td>\n",
       "      <td>11612</td>\n",
       "      <td>Diesel</td>\n",
       "      <td>41.5</td>\n",
       "      <td>2.1</td>\n",
       "    </tr>\n",
       "    <tr>\n",
       "      <th>12858</th>\n",
       "      <td>CLS Class</td>\n",
       "      <td>2019</td>\n",
       "      <td>37990</td>\n",
       "      <td>Automatic</td>\n",
       "      <td>2426</td>\n",
       "      <td>Diesel</td>\n",
       "      <td>45.6</td>\n",
       "      <td>2.0</td>\n",
       "    </tr>\n",
       "    <tr>\n",
       "      <th>12859</th>\n",
       "      <td>S Class</td>\n",
       "      <td>2019</td>\n",
       "      <td>54999</td>\n",
       "      <td>Automatic</td>\n",
       "      <td>2075</td>\n",
       "      <td>Diesel</td>\n",
       "      <td>52.3</td>\n",
       "      <td>2.9</td>\n",
       "    </tr>\n",
       "  </tbody>\n",
       "</table>\n",
       "<p>12860 rows × 8 columns</p>\n",
       "</div>"
      ],
      "text/plain": [
       "            model  year  price transmission  mileage fuelType   mpg  \\\n",
       "0             SLK  2005   5200    Automatic    63000   Petrol  32.1   \n",
       "1         S Class  2017  34948    Automatic    27000   Hybrid  61.4   \n",
       "2        SL CLASS  2016  49948    Automatic     6200   Petrol  28.0   \n",
       "3         G Class  2016  61948    Automatic    16000   Petrol  30.4   \n",
       "4         G Class  2016  73948    Automatic     4000   Petrol  30.1   \n",
       "...           ...   ...    ...          ...      ...      ...   ...   \n",
       "12855     C Class  2020  35999    Automatic      500   Diesel  55.4   \n",
       "12856     B Class  2020  24699    Automatic     2500   Diesel  55.4   \n",
       "12857   GLC Class  2019  30999    Automatic    11612   Diesel  41.5   \n",
       "12858   CLS Class  2019  37990    Automatic     2426   Diesel  45.6   \n",
       "12859     S Class  2019  54999    Automatic     2075   Diesel  52.3   \n",
       "\n",
       "       engineSize  \n",
       "0             1.8  \n",
       "1             2.1  \n",
       "2             5.5  \n",
       "3             4.0  \n",
       "4             4.0  \n",
       "...           ...  \n",
       "12855         2.0  \n",
       "12856         2.0  \n",
       "12857         2.1  \n",
       "12858         2.0  \n",
       "12859         2.9  \n",
       "\n",
       "[12860 rows x 8 columns]"
      ]
     },
     "execution_count": 105,
     "metadata": {},
     "output_type": "execute_result"
    }
   ],
   "source": [
    "df"
   ]
  },
  {
   "cell_type": "markdown",
   "metadata": {},
   "source": [
    "CHECKING THE DISTRIBUTION OF DATA"
   ]
  },
  {
   "cell_type": "markdown",
   "metadata": {},
   "source": [
    "HERE WE CAN SEE THAT THE \"OTHER\" CATEGORIES IN TRANSMISSON AND FUELTYPE IS LESS THAN 1% SO WE CAN DELETE IT"
   ]
  },
  {
   "cell_type": "code",
   "execution_count": 106,
   "metadata": {},
   "outputs": [
    {
     "data": {
      "text/plain": [
       "Semi-Auto    6641\n",
       "Automatic    4797\n",
       "Manual       1420\n",
       "Other           2\n",
       "Name: transmission, dtype: int64"
      ]
     },
     "execution_count": 106,
     "metadata": {},
     "output_type": "execute_result"
    }
   ],
   "source": [
    "df['transmission'].value_counts()"
   ]
  },
  {
   "cell_type": "code",
   "execution_count": 107,
   "metadata": {},
   "outputs": [],
   "source": [
    "df=df[df['transmission']!='Other']"
   ]
  },
  {
   "cell_type": "code",
   "execution_count": 108,
   "metadata": {},
   "outputs": [
    {
     "data": {
      "text/plain": [
       "Diesel    9033\n",
       "Petrol    3649\n",
       "Hybrid     170\n",
       "Other        6\n",
       "Name: fuelType, dtype: int64"
      ]
     },
     "execution_count": 108,
     "metadata": {},
     "output_type": "execute_result"
    }
   ],
   "source": [
    "df['fuelType'].value_counts()"
   ]
  },
  {
   "cell_type": "code",
   "execution_count": 109,
   "metadata": {},
   "outputs": [],
   "source": [
    "df=df[df['fuelType']!='Other']"
   ]
  },
  {
   "cell_type": "code",
   "execution_count": 110,
   "metadata": {},
   "outputs": [
    {
     "data": {
      "text/plain": [
       "(12852, 8)"
      ]
     },
     "execution_count": 110,
     "metadata": {},
     "output_type": "execute_result"
    }
   ],
   "source": [
    "df.shape"
   ]
  },
  {
   "cell_type": "markdown",
   "metadata": {},
   "source": [
    "BUT IN FUELTYPE THE IMBALANCE IS HUGE WHICH WILL CREATE BIAS IN THE MODEL SO NEED TO TREAT THAT"
   ]
  },
  {
   "cell_type": "code",
   "execution_count": 116,
   "metadata": {},
   "outputs": [],
   "source": [
    "from sklearn.utils import resample\n",
    "df_diesel = df[df['fuelType'] == 'Diesel']\n",
    "df_petrol = df[df['fuelType'] == 'Petrol']\n",
    "df_hybrid = df[df['fuelType'] == 'Hybrid']\n",
    "df_hybrid_upsampled = resample(df_hybrid, replace=True, n_samples=2500, random_state=42)\n",
    "df = pd.concat([df_diesel, df_petrol, df_hybrid_upsampled])\n",
    "\n",
    "# Shuffle the dataset to randomize the order of samples\n",
    "df = df.sample(frac=1, random_state=42).reset_index(drop=True)"
   ]
  },
  {
   "cell_type": "code",
   "execution_count": 117,
   "metadata": {},
   "outputs": [
    {
     "data": {
      "text/plain": [
       "(15182, 8)"
      ]
     },
     "execution_count": 117,
     "metadata": {},
     "output_type": "execute_result"
    }
   ],
   "source": [
    "df.shape"
   ]
  },
  {
   "cell_type": "code",
   "execution_count": 118,
   "metadata": {},
   "outputs": [
    {
     "data": {
      "text/plain": [
       "Diesel    9033\n",
       "Petrol    3649\n",
       "Hybrid    2500\n",
       "Name: fuelType, dtype: int64"
      ]
     },
     "execution_count": 118,
     "metadata": {},
     "output_type": "execute_result"
    }
   ],
   "source": [
    "df['fuelType'].value_counts()"
   ]
  },
  {
   "cell_type": "code",
   "execution_count": 119,
   "metadata": {},
   "outputs": [
    {
     "data": {
      "text/plain": [
       "2019    4897\n",
       "2017    2906\n",
       "2016    2817\n",
       "2018    1476\n",
       "2015    1322\n",
       "2020     669\n",
       "2014     522\n",
       "2013     319\n",
       "2012      57\n",
       "2010      38\n",
       "2011      38\n",
       "2007      22\n",
       "2009      17\n",
       "2008      16\n",
       "2004      13\n",
       "2001      10\n",
       "2005       9\n",
       "2002       9\n",
       "2006       8\n",
       "2003       7\n",
       "1998       4\n",
       "2000       3\n",
       "1970       1\n",
       "1999       1\n",
       "1997       1\n",
       "Name: year, dtype: int64"
      ]
     },
     "execution_count": 119,
     "metadata": {},
     "output_type": "execute_result"
    }
   ],
   "source": [
    "df['year'].value_counts()"
   ]
  },
  {
   "cell_type": "markdown",
   "metadata": {},
   "source": [
    "WE WILL DELETE YEARS 1999,1970 AND 1997"
   ]
  },
  {
   "cell_type": "code",
   "execution_count": 120,
   "metadata": {},
   "outputs": [],
   "source": [
    "df['year']=df['year'].astype(str)"
   ]
  },
  {
   "cell_type": "code",
   "execution_count": 121,
   "metadata": {},
   "outputs": [],
   "source": [
    "lst=['1970','1999','1997']\n",
    "df=df[~df['year'].isin(lst)]"
   ]
  },
  {
   "cell_type": "code",
   "execution_count": 122,
   "metadata": {},
   "outputs": [
    {
     "data": {
      "text/html": [
       "<div>\n",
       "<style scoped>\n",
       "    .dataframe tbody tr th:only-of-type {\n",
       "        vertical-align: middle;\n",
       "    }\n",
       "\n",
       "    .dataframe tbody tr th {\n",
       "        vertical-align: top;\n",
       "    }\n",
       "\n",
       "    .dataframe thead th {\n",
       "        text-align: right;\n",
       "    }\n",
       "</style>\n",
       "<table border=\"1\" class=\"dataframe\">\n",
       "  <thead>\n",
       "    <tr style=\"text-align: right;\">\n",
       "      <th></th>\n",
       "      <th>model</th>\n",
       "      <th>year</th>\n",
       "      <th>price</th>\n",
       "      <th>transmission</th>\n",
       "      <th>mileage</th>\n",
       "      <th>fuelType</th>\n",
       "      <th>mpg</th>\n",
       "      <th>engineSize</th>\n",
       "    </tr>\n",
       "  </thead>\n",
       "  <tbody>\n",
       "    <tr>\n",
       "      <th>0</th>\n",
       "      <td>E Class</td>\n",
       "      <td>2015</td>\n",
       "      <td>15691</td>\n",
       "      <td>Automatic</td>\n",
       "      <td>29701</td>\n",
       "      <td>Diesel</td>\n",
       "      <td>57.7</td>\n",
       "      <td>2.1</td>\n",
       "    </tr>\n",
       "    <tr>\n",
       "      <th>1</th>\n",
       "      <td>E Class</td>\n",
       "      <td>2017</td>\n",
       "      <td>21699</td>\n",
       "      <td>Semi-Auto</td>\n",
       "      <td>31459</td>\n",
       "      <td>Diesel</td>\n",
       "      <td>65.7</td>\n",
       "      <td>2.0</td>\n",
       "    </tr>\n",
       "    <tr>\n",
       "      <th>2</th>\n",
       "      <td>C Class</td>\n",
       "      <td>2015</td>\n",
       "      <td>10995</td>\n",
       "      <td>Semi-Auto</td>\n",
       "      <td>58734</td>\n",
       "      <td>Diesel</td>\n",
       "      <td>53.3</td>\n",
       "      <td>2.1</td>\n",
       "    </tr>\n",
       "    <tr>\n",
       "      <th>3</th>\n",
       "      <td>S Class</td>\n",
       "      <td>2016</td>\n",
       "      <td>24880</td>\n",
       "      <td>Automatic</td>\n",
       "      <td>75000</td>\n",
       "      <td>Hybrid</td>\n",
       "      <td>42.4</td>\n",
       "      <td>3.5</td>\n",
       "    </tr>\n",
       "    <tr>\n",
       "      <th>4</th>\n",
       "      <td>GLA Class</td>\n",
       "      <td>2017</td>\n",
       "      <td>18470</td>\n",
       "      <td>Automatic</td>\n",
       "      <td>24928</td>\n",
       "      <td>Petrol</td>\n",
       "      <td>48.7</td>\n",
       "      <td>1.6</td>\n",
       "    </tr>\n",
       "    <tr>\n",
       "      <th>...</th>\n",
       "      <td>...</td>\n",
       "      <td>...</td>\n",
       "      <td>...</td>\n",
       "      <td>...</td>\n",
       "      <td>...</td>\n",
       "      <td>...</td>\n",
       "      <td>...</td>\n",
       "      <td>...</td>\n",
       "    </tr>\n",
       "    <tr>\n",
       "      <th>15177</th>\n",
       "      <td>E Class</td>\n",
       "      <td>2017</td>\n",
       "      <td>20498</td>\n",
       "      <td>Automatic</td>\n",
       "      <td>18330</td>\n",
       "      <td>Diesel</td>\n",
       "      <td>72.4</td>\n",
       "      <td>2.0</td>\n",
       "    </tr>\n",
       "    <tr>\n",
       "      <th>15178</th>\n",
       "      <td>C Class</td>\n",
       "      <td>2016</td>\n",
       "      <td>16562</td>\n",
       "      <td>Automatic</td>\n",
       "      <td>49126</td>\n",
       "      <td>Hybrid</td>\n",
       "      <td>134.5</td>\n",
       "      <td>2.0</td>\n",
       "    </tr>\n",
       "    <tr>\n",
       "      <th>15179</th>\n",
       "      <td>CLS Class</td>\n",
       "      <td>2013</td>\n",
       "      <td>14790</td>\n",
       "      <td>Automatic</td>\n",
       "      <td>58000</td>\n",
       "      <td>Diesel</td>\n",
       "      <td>47.1</td>\n",
       "      <td>3.0</td>\n",
       "    </tr>\n",
       "    <tr>\n",
       "      <th>15180</th>\n",
       "      <td>E Class</td>\n",
       "      <td>2014</td>\n",
       "      <td>11250</td>\n",
       "      <td>Automatic</td>\n",
       "      <td>98514</td>\n",
       "      <td>Diesel</td>\n",
       "      <td>51.4</td>\n",
       "      <td>2.1</td>\n",
       "    </tr>\n",
       "    <tr>\n",
       "      <th>15181</th>\n",
       "      <td>C Class</td>\n",
       "      <td>2016</td>\n",
       "      <td>16495</td>\n",
       "      <td>Semi-Auto</td>\n",
       "      <td>28304</td>\n",
       "      <td>Diesel</td>\n",
       "      <td>65.7</td>\n",
       "      <td>1.6</td>\n",
       "    </tr>\n",
       "  </tbody>\n",
       "</table>\n",
       "<p>15179 rows × 8 columns</p>\n",
       "</div>"
      ],
      "text/plain": [
       "            model  year  price transmission  mileage fuelType    mpg  \\\n",
       "0         E Class  2015  15691    Automatic    29701   Diesel   57.7   \n",
       "1         E Class  2017  21699    Semi-Auto    31459   Diesel   65.7   \n",
       "2         C Class  2015  10995    Semi-Auto    58734   Diesel   53.3   \n",
       "3         S Class  2016  24880    Automatic    75000   Hybrid   42.4   \n",
       "4       GLA Class  2017  18470    Automatic    24928   Petrol   48.7   \n",
       "...           ...   ...    ...          ...      ...      ...    ...   \n",
       "15177     E Class  2017  20498    Automatic    18330   Diesel   72.4   \n",
       "15178     C Class  2016  16562    Automatic    49126   Hybrid  134.5   \n",
       "15179   CLS Class  2013  14790    Automatic    58000   Diesel   47.1   \n",
       "15180     E Class  2014  11250    Automatic    98514   Diesel   51.4   \n",
       "15181     C Class  2016  16495    Semi-Auto    28304   Diesel   65.7   \n",
       "\n",
       "       engineSize  \n",
       "0             2.1  \n",
       "1             2.0  \n",
       "2             2.1  \n",
       "3             3.5  \n",
       "4             1.6  \n",
       "...           ...  \n",
       "15177         2.0  \n",
       "15178         2.0  \n",
       "15179         3.0  \n",
       "15180         2.1  \n",
       "15181         1.6  \n",
       "\n",
       "[15179 rows x 8 columns]"
      ]
     },
     "execution_count": 122,
     "metadata": {},
     "output_type": "execute_result"
    }
   ],
   "source": [
    "df"
   ]
  },
  {
   "cell_type": "code",
   "execution_count": 123,
   "metadata": {},
   "outputs": [
    {
     "data": {
      "image/png": "[encoded data removed]",
      "text/plain": [
       "<Figure size 720x432 with 1 Axes>"
      ]
     },
     "metadata": {
      "needs_background": "light"
     },
     "output_type": "display_data"
    }
   ],
   "source": [
    "import pandas as pd\n",
    "import matplotlib.pyplot as plt\n",
    "\n",
    "# Load your dataset into a Pandas DataFrame\n",
    "\n",
    "\n",
    "# Count the occurrences of each unique value in the \"model\" column\n",
    "model_counts = df['year'].value_counts()\n",
    "\n",
    "# Plot a bar chart\n",
    "plt.figure(figsize=(10, 6))  # Adjust the figure size as needed\n",
    "model_counts.plot(kind='bar')\n",
    "plt.title('Counts of Different Models')\n",
    "plt.xlabel('Year')\n",
    "plt.ylabel('Count')\n",
    "plt.xticks(rotation=45)  # Rotate x-axis labels for better readability\n",
    "plt.grid(axis='y')  # Add gridlines along the y-axis\n",
    "plt.tight_layout()  # Adjust layout to prevent clipping of labels\n",
    "plt.show()"
   ]
  },
  {
   "cell_type": "code",
   "execution_count": 124,
   "metadata": {},
   "outputs": [
    {
     "data": {
      "text/plain": [
       "array([' E Class', ' C Class', ' S Class', ' GLA Class', ' B Class',\n",
       "       ' A Class', ' SL CLASS', ' GLE Class', ' CLS Class', ' GLC Class',\n",
       "       ' V Class', ' CL Class', ' X-CLASS', ' GL Class', ' CLA Class',\n",
       "       ' GLB Class', ' M Class', ' GLS Class', ' G Class', ' SLK',\n",
       "       ' CLC Class', '180', ' CLK', ' R Class', '230', '200', '220'],\n",
       "      dtype=object)"
      ]
     },
     "execution_count": 124,
     "metadata": {},
     "output_type": "execute_result"
    }
   ],
   "source": [
    "df['model'].unique()"
   ]
  },
  {
   "cell_type": "code",
   "execution_count": 125,
   "metadata": {},
   "outputs": [
    {
     "data": {
      "image/png": "[encoded data removed]",
      "text/plain": [
       "<Figure size 720x432 with 1 Axes>"
      ]
     },
     "metadata": {
      "needs_background": "light"
     },
     "output_type": "display_data"
    }
   ],
   "source": [
    "import pandas as pd\n",
    "import matplotlib.pyplot as plt\n",
    "\n",
    "# Load your dataset into a Pandas DataFrame\n",
    "\n",
    "\n",
    "# Count the occurrences of each unique value in the \"model\" column\n",
    "model_counts = df['model'].value_counts()\n",
    "\n",
    "# Plot a bar chart\n",
    "plt.figure(figsize=(10, 6))  # Adjust the figure size as needed\n",
    "model_counts.plot(kind='bar')\n",
    "plt.title('Counts of Different Models')\n",
    "plt.xlabel('Model')\n",
    "plt.ylabel('Count')\n",
    "plt.xticks(rotation=45)  # Rotate x-axis labels for better readability\n",
    "plt.grid(axis='y')  # Add gridlines along the y-axis\n",
    "plt.tight_layout()  # Adjust layout to prevent clipping of labels\n",
    "plt.show()\n"
   ]
  },
  {
   "cell_type": "code",
   "execution_count": 126,
   "metadata": {},
   "outputs": [],
   "source": [
    "model_counts = df['model'].value_counts()"
   ]
  },
  {
   "cell_type": "code",
   "execution_count": 127,
   "metadata": {},
   "outputs": [
    {
     "data": {
      "text/plain": [
       " C Class      5360\n",
       " A Class      2510\n",
       " E Class      2382\n",
       " GLC Class     935\n",
       " GLA Class     826\n",
       " B Class       569\n",
       " CL Class      508\n",
       " GLE Class     502\n",
       " S Class       314\n",
       " SL CLASS      258\n",
       " CLS Class     237\n",
       " V Class       203\n",
       " GL Class      121\n",
       " SLK            94\n",
       " CLA Class      86\n",
       " M Class        78\n",
       " GLS Class      74\n",
       " X-CLASS        73\n",
       " GLB Class      18\n",
       " G Class        15\n",
       " CLK             7\n",
       " CLC Class       3\n",
       " R Class         2\n",
       "180              1\n",
       "230              1\n",
       "200              1\n",
       "220              1\n",
       "Name: model, dtype: int64"
      ]
     },
     "execution_count": 127,
     "metadata": {},
     "output_type": "execute_result"
    }
   ],
   "source": [
    "model_counts"
   ]
  },
  {
   "cell_type": "markdown",
   "metadata": {},
   "source": [
    "WE CAN SEE THAT MODEL WITH LESS THAN 10 COUNT WILL NOT PROVIDE ANY SIGNIFICANT IMPACT TO THE MODEL SO WE CAN JUST GROUP IT AND NAME IT AS \"OTHER\""
   ]
  },
  {
   "cell_type": "code",
   "execution_count": 128,
   "metadata": {},
   "outputs": [],
   "source": [
    "models_to_replace = model_counts[model_counts < 10].index\n",
    "\n",
    "# Replace values in the \"model\" column with count less than 10 with \"Other\"\n",
    "df['model'] = df['model'].replace(models_to_replace, 'Other')\n"
   ]
  },
  {
   "cell_type": "code",
   "execution_count": 129,
   "metadata": {},
   "outputs": [
    {
     "data": {
      "text/plain": [
       " C Class      5360\n",
       " A Class      2510\n",
       " E Class      2382\n",
       " GLC Class     935\n",
       " GLA Class     826\n",
       " B Class       569\n",
       " CL Class      508\n",
       " GLE Class     502\n",
       " S Class       314\n",
       " SL CLASS      258\n",
       " CLS Class     237\n",
       " V Class       203\n",
       " GL Class      121\n",
       " SLK            94\n",
       " CLA Class      86\n",
       " M Class        78\n",
       " GLS Class      74\n",
       " X-CLASS        73\n",
       " GLB Class      18\n",
       "Other           16\n",
       " G Class        15\n",
       "Name: model, dtype: int64"
      ]
     },
     "execution_count": 129,
     "metadata": {},
     "output_type": "execute_result"
    }
   ],
   "source": [
    "df['model'].value_counts()"
   ]
  },
  {
   "cell_type": "code",
   "execution_count": 130,
   "metadata": {},
   "outputs": [
    {
     "data": {
      "text/html": [
       "<div>\n",
       "<style scoped>\n",
       "    .dataframe tbody tr th:only-of-type {\n",
       "        vertical-align: middle;\n",
       "    }\n",
       "\n",
       "    .dataframe tbody tr th {\n",
       "        vertical-align: top;\n",
       "    }\n",
       "\n",
       "    .dataframe thead th {\n",
       "        text-align: right;\n",
       "    }\n",
       "</style>\n",
       "<table border=\"1\" class=\"dataframe\">\n",
       "  <thead>\n",
       "    <tr style=\"text-align: right;\">\n",
       "      <th></th>\n",
       "      <th>model</th>\n",
       "      <th>year</th>\n",
       "      <th>price</th>\n",
       "      <th>transmission</th>\n",
       "      <th>mileage</th>\n",
       "      <th>fuelType</th>\n",
       "      <th>mpg</th>\n",
       "      <th>engineSize</th>\n",
       "    </tr>\n",
       "  </thead>\n",
       "  <tbody>\n",
       "    <tr>\n",
       "      <th>0</th>\n",
       "      <td>E Class</td>\n",
       "      <td>2015</td>\n",
       "      <td>15691</td>\n",
       "      <td>Automatic</td>\n",
       "      <td>29701</td>\n",
       "      <td>Diesel</td>\n",
       "      <td>57.7</td>\n",
       "      <td>2.1</td>\n",
       "    </tr>\n",
       "    <tr>\n",
       "      <th>1</th>\n",
       "      <td>E Class</td>\n",
       "      <td>2017</td>\n",
       "      <td>21699</td>\n",
       "      <td>Semi-Auto</td>\n",
       "      <td>31459</td>\n",
       "      <td>Diesel</td>\n",
       "      <td>65.7</td>\n",
       "      <td>2.0</td>\n",
       "    </tr>\n",
       "    <tr>\n",
       "      <th>2</th>\n",
       "      <td>C Class</td>\n",
       "      <td>2015</td>\n",
       "      <td>10995</td>\n",
       "      <td>Semi-Auto</td>\n",
       "      <td>58734</td>\n",
       "      <td>Diesel</td>\n",
       "      <td>53.3</td>\n",
       "      <td>2.1</td>\n",
       "    </tr>\n",
       "    <tr>\n",
       "      <th>3</th>\n",
       "      <td>S Class</td>\n",
       "      <td>2016</td>\n",
       "      <td>24880</td>\n",
       "      <td>Automatic</td>\n",
       "      <td>75000</td>\n",
       "      <td>Hybrid</td>\n",
       "      <td>42.4</td>\n",
       "      <td>3.5</td>\n",
       "    </tr>\n",
       "    <tr>\n",
       "      <th>4</th>\n",
       "      <td>GLA Class</td>\n",
       "      <td>2017</td>\n",
       "      <td>18470</td>\n",
       "      <td>Automatic</td>\n",
       "      <td>24928</td>\n",
       "      <td>Petrol</td>\n",
       "      <td>48.7</td>\n",
       "      <td>1.6</td>\n",
       "    </tr>\n",
       "    <tr>\n",
       "      <th>...</th>\n",
       "      <td>...</td>\n",
       "      <td>...</td>\n",
       "      <td>...</td>\n",
       "      <td>...</td>\n",
       "      <td>...</td>\n",
       "      <td>...</td>\n",
       "      <td>...</td>\n",
       "      <td>...</td>\n",
       "    </tr>\n",
       "    <tr>\n",
       "      <th>15177</th>\n",
       "      <td>E Class</td>\n",
       "      <td>2017</td>\n",
       "      <td>20498</td>\n",
       "      <td>Automatic</td>\n",
       "      <td>18330</td>\n",
       "      <td>Diesel</td>\n",
       "      <td>72.4</td>\n",
       "      <td>2.0</td>\n",
       "    </tr>\n",
       "    <tr>\n",
       "      <th>15178</th>\n",
       "      <td>C Class</td>\n",
       "      <td>2016</td>\n",
       "      <td>16562</td>\n",
       "      <td>Automatic</td>\n",
       "      <td>49126</td>\n",
       "      <td>Hybrid</td>\n",
       "      <td>134.5</td>\n",
       "      <td>2.0</td>\n",
       "    </tr>\n",
       "    <tr>\n",
       "      <th>15179</th>\n",
       "      <td>CLS Class</td>\n",
       "      <td>2013</td>\n",
       "      <td>14790</td>\n",
       "      <td>Automatic</td>\n",
       "      <td>58000</td>\n",
       "      <td>Diesel</td>\n",
       "      <td>47.1</td>\n",
       "      <td>3.0</td>\n",
       "    </tr>\n",
       "    <tr>\n",
       "      <th>15180</th>\n",
       "      <td>E Class</td>\n",
       "      <td>2014</td>\n",
       "      <td>11250</td>\n",
       "      <td>Automatic</td>\n",
       "      <td>98514</td>\n",
       "      <td>Diesel</td>\n",
       "      <td>51.4</td>\n",
       "      <td>2.1</td>\n",
       "    </tr>\n",
       "    <tr>\n",
       "      <th>15181</th>\n",
       "      <td>C Class</td>\n",
       "      <td>2016</td>\n",
       "      <td>16495</td>\n",
       "      <td>Semi-Auto</td>\n",
       "      <td>28304</td>\n",
       "      <td>Diesel</td>\n",
       "      <td>65.7</td>\n",
       "      <td>1.6</td>\n",
       "    </tr>\n",
       "  </tbody>\n",
       "</table>\n",
       "<p>15179 rows × 8 columns</p>\n",
       "</div>"
      ],
      "text/plain": [
       "            model  year  price transmission  mileage fuelType    mpg  \\\n",
       "0         E Class  2015  15691    Automatic    29701   Diesel   57.7   \n",
       "1         E Class  2017  21699    Semi-Auto    31459   Diesel   65.7   \n",
       "2         C Class  2015  10995    Semi-Auto    58734   Diesel   53.3   \n",
       "3         S Class  2016  24880    Automatic    75000   Hybrid   42.4   \n",
       "4       GLA Class  2017  18470    Automatic    24928   Petrol   48.7   \n",
       "...           ...   ...    ...          ...      ...      ...    ...   \n",
       "15177     E Class  2017  20498    Automatic    18330   Diesel   72.4   \n",
       "15178     C Class  2016  16562    Automatic    49126   Hybrid  134.5   \n",
       "15179   CLS Class  2013  14790    Automatic    58000   Diesel   47.1   \n",
       "15180     E Class  2014  11250    Automatic    98514   Diesel   51.4   \n",
       "15181     C Class  2016  16495    Semi-Auto    28304   Diesel   65.7   \n",
       "\n",
       "       engineSize  \n",
       "0             2.1  \n",
       "1             2.0  \n",
       "2             2.1  \n",
       "3             3.5  \n",
       "4             1.6  \n",
       "...           ...  \n",
       "15177         2.0  \n",
       "15178         2.0  \n",
       "15179         3.0  \n",
       "15180         2.1  \n",
       "15181         1.6  \n",
       "\n",
       "[15179 rows x 8 columns]"
      ]
     },
     "execution_count": 130,
     "metadata": {},
     "output_type": "execute_result"
    }
   ],
   "source": [
    "df"
   ]
  },
  {
   "cell_type": "markdown",
   "metadata": {},
   "source": [
    "FIND OUT RELATIONSHIPS BETWEEN MY INDEPENDENT VARIABLES AND MY DEPENDNT VARIABLES"
   ]
  },
  {
   "cell_type": "code",
   "execution_count": 135,
   "metadata": {},
   "outputs": [
    {
     "data": {
      "image/png": "[encoded data removed]",
      "text/plain": [
       "<Figure size 864x576 with 1 Axes>"
      ]
     },
     "metadata": {
      "needs_background": "light"
     },
     "output_type": "display_data"
    }
   ],
   "source": [
    "import seaborn as sns\n",
    "import matplotlib.pyplot as plt\n",
    "average_price_per_model = df.groupby('model')['price'].mean().reset_index()\n",
    "\n",
    "# Sort the dataframe by average price\n",
    "average_price_per_model = average_price_per_model.sort_values(by='price')\n",
    "\n",
    "# Plot\n",
    "plt.figure(figsize=(12, 8))\n",
    "plt.bar(average_price_per_model['model'], average_price_per_model['price'], color='skyblue')\n",
    "plt.xlabel('Car Model')\n",
    "plt.ylabel('Average Price')\n",
    "plt.title('Average Price of Car Models')\n",
    "plt.xticks(rotation=45)\n",
    "plt.grid(axis='y')\n",
    "plt.tight_layout()\n",
    "plt.show()"
   ]
  },
  {
   "cell_type": "code",
   "execution_count": 137,
   "metadata": {},
   "outputs": [
    {
     "data": {
      "text/html": [
       "<div>\n",
       "<style scoped>\n",
       "    .dataframe tbody tr th:only-of-type {\n",
       "        vertical-align: middle;\n",
       "    }\n",
       "\n",
       "    .dataframe tbody tr th {\n",
       "        vertical-align: top;\n",
       "    }\n",
       "\n",
       "    .dataframe thead th {\n",
       "        text-align: right;\n",
       "    }\n",
       "</style>\n",
       "<table border=\"1\" class=\"dataframe\">\n",
       "  <thead>\n",
       "    <tr style=\"text-align: right;\">\n",
       "      <th></th>\n",
       "      <th>model</th>\n",
       "      <th>year</th>\n",
       "      <th>price</th>\n",
       "      <th>transmission</th>\n",
       "      <th>mileage</th>\n",
       "      <th>fuelType</th>\n",
       "      <th>mpg</th>\n",
       "      <th>engineSize</th>\n",
       "    </tr>\n",
       "  </thead>\n",
       "  <tbody>\n",
       "    <tr>\n",
       "      <th>0</th>\n",
       "      <td>E Class</td>\n",
       "      <td>2015</td>\n",
       "      <td>15691</td>\n",
       "      <td>Automatic</td>\n",
       "      <td>29701</td>\n",
       "      <td>Diesel</td>\n",
       "      <td>57.7</td>\n",
       "      <td>2.1</td>\n",
       "    </tr>\n",
       "    <tr>\n",
       "      <th>1</th>\n",
       "      <td>E Class</td>\n",
       "      <td>2017</td>\n",
       "      <td>21699</td>\n",
       "      <td>Semi-Auto</td>\n",
       "      <td>31459</td>\n",
       "      <td>Diesel</td>\n",
       "      <td>65.7</td>\n",
       "      <td>2.0</td>\n",
       "    </tr>\n",
       "    <tr>\n",
       "      <th>2</th>\n",
       "      <td>C Class</td>\n",
       "      <td>2015</td>\n",
       "      <td>10995</td>\n",
       "      <td>Semi-Auto</td>\n",
       "      <td>58734</td>\n",
       "      <td>Diesel</td>\n",
       "      <td>53.3</td>\n",
       "      <td>2.1</td>\n",
       "    </tr>\n",
       "    <tr>\n",
       "      <th>3</th>\n",
       "      <td>S Class</td>\n",
       "      <td>2016</td>\n",
       "      <td>24880</td>\n",
       "      <td>Automatic</td>\n",
       "      <td>75000</td>\n",
       "      <td>Hybrid</td>\n",
       "      <td>42.4</td>\n",
       "      <td>3.5</td>\n",
       "    </tr>\n",
       "    <tr>\n",
       "      <th>4</th>\n",
       "      <td>GLA Class</td>\n",
       "      <td>2017</td>\n",
       "      <td>18470</td>\n",
       "      <td>Automatic</td>\n",
       "      <td>24928</td>\n",
       "      <td>Petrol</td>\n",
       "      <td>48.7</td>\n",
       "      <td>1.6</td>\n",
       "    </tr>\n",
       "    <tr>\n",
       "      <th>...</th>\n",
       "      <td>...</td>\n",
       "      <td>...</td>\n",
       "      <td>...</td>\n",
       "      <td>...</td>\n",
       "      <td>...</td>\n",
       "      <td>...</td>\n",
       "      <td>...</td>\n",
       "      <td>...</td>\n",
       "    </tr>\n",
       "    <tr>\n",
       "      <th>15177</th>\n",
       "      <td>E Class</td>\n",
       "      <td>2017</td>\n",
       "      <td>20498</td>\n",
       "      <td>Automatic</td>\n",
       "      <td>18330</td>\n",
       "      <td>Diesel</td>\n",
       "      <td>72.4</td>\n",
       "      <td>2.0</td>\n",
       "    </tr>\n",
       "    <tr>\n",
       "      <th>15178</th>\n",
       "      <td>C Class</td>\n",
       "      <td>2016</td>\n",
       "      <td>16562</td>\n",
       "      <td>Automatic</td>\n",
       "      <td>49126</td>\n",
       "      <td>Hybrid</td>\n",
       "      <td>134.5</td>\n",
       "      <td>2.0</td>\n",
       "    </tr>\n",
       "    <tr>\n",
       "      <th>15179</th>\n",
       "      <td>CLS Class</td>\n",
       "      <td>2013</td>\n",
       "      <td>14790</td>\n",
       "      <td>Automatic</td>\n",
       "      <td>58000</td>\n",
       "      <td>Diesel</td>\n",
       "      <td>47.1</td>\n",
       "      <td>3.0</td>\n",
       "    </tr>\n",
       "    <tr>\n",
       "      <th>15180</th>\n",
       "      <td>E Class</td>\n",
       "      <td>2014</td>\n",
       "      <td>11250</td>\n",
       "      <td>Automatic</td>\n",
       "      <td>98514</td>\n",
       "      <td>Diesel</td>\n",
       "      <td>51.4</td>\n",
       "      <td>2.1</td>\n",
       "    </tr>\n",
       "    <tr>\n",
       "      <th>15181</th>\n",
       "      <td>C Class</td>\n",
       "      <td>2016</td>\n",
       "      <td>16495</td>\n",
       "      <td>Semi-Auto</td>\n",
       "      <td>28304</td>\n",
       "      <td>Diesel</td>\n",
       "      <td>65.7</td>\n",
       "      <td>1.6</td>\n",
       "    </tr>\n",
       "  </tbody>\n",
       "</table>\n",
       "<p>15179 rows × 8 columns</p>\n",
       "</div>"
      ],
      "text/plain": [
       "            model  year  price transmission  mileage fuelType    mpg  \\\n",
       "0         E Class  2015  15691    Automatic    29701   Diesel   57.7   \n",
       "1         E Class  2017  21699    Semi-Auto    31459   Diesel   65.7   \n",
       "2         C Class  2015  10995    Semi-Auto    58734   Diesel   53.3   \n",
       "3         S Class  2016  24880    Automatic    75000   Hybrid   42.4   \n",
       "4       GLA Class  2017  18470    Automatic    24928   Petrol   48.7   \n",
       "...           ...   ...    ...          ...      ...      ...    ...   \n",
       "15177     E Class  2017  20498    Automatic    18330   Diesel   72.4   \n",
       "15178     C Class  2016  16562    Automatic    49126   Hybrid  134.5   \n",
       "15179   CLS Class  2013  14790    Automatic    58000   Diesel   47.1   \n",
       "15180     E Class  2014  11250    Automatic    98514   Diesel   51.4   \n",
       "15181     C Class  2016  16495    Semi-Auto    28304   Diesel   65.7   \n",
       "\n",
       "       engineSize  \n",
       "0             2.1  \n",
       "1             2.0  \n",
       "2             2.1  \n",
       "3             3.5  \n",
       "4             1.6  \n",
       "...           ...  \n",
       "15177         2.0  \n",
       "15178         2.0  \n",
       "15179         3.0  \n",
       "15180         2.1  \n",
       "15181         1.6  \n",
       "\n",
       "[15179 rows x 8 columns]"
      ]
     },
     "execution_count": 137,
     "metadata": {},
     "output_type": "execute_result"
    }
   ],
   "source": [
    "df"
   ]
  },
  {
   "cell_type": "code",
   "execution_count": 139,
   "metadata": {},
   "outputs": [
    {
     "data": {
      "image/png": "[encoded data removed]",
      "text/plain": [
       "<Figure size 864x576 with 1 Axes>"
      ]
     },
     "metadata": {
      "needs_background": "light"
     },
     "output_type": "display_data"
    }
   ],
   "source": [
    "import seaborn as sns\n",
    "import matplotlib.pyplot as plt\n",
    "average_price_per_model = df.groupby('transmission')['price'].mean().reset_index()\n",
    "\n",
    "# Sort the dataframe by average price\n",
    "average_price_per_model = average_price_per_model.sort_values(by='price')\n",
    "\n",
    "# Plot\n",
    "plt.figure(figsize=(12, 8))\n",
    "plt.bar(average_price_per_model['transmission'], average_price_per_model['price'], color='skyblue')\n",
    "plt.xlabel('Transmisson')\n",
    "plt.ylabel('Average Price')\n",
    "plt.title('Transmisson')\n",
    "plt.xticks(rotation=45)\n",
    "plt.grid(axis='y')\n",
    "plt.tight_layout()\n",
    "plt.show()"
   ]
  },
  {
   "cell_type": "code",
   "execution_count": 140,
   "metadata": {},
   "outputs": [
    {
     "data": {
      "image/png": "[encoded data removed]",
      "text/plain": [
       "<Figure size 864x576 with 1 Axes>"
      ]
     },
     "metadata": {
      "needs_background": "light"
     },
     "output_type": "display_data"
    }
   ],
   "source": [
    "import seaborn as sns\n",
    "import matplotlib.pyplot as plt\n",
    "average_price_per_model = df.groupby('fuelType')['price'].mean().reset_index()\n",
    "\n",
    "# Sort the dataframe by average price\n",
    "average_price_per_model = average_price_per_model.sort_values(by='price')\n",
    "\n",
    "# Plot\n",
    "plt.figure(figsize=(12, 8))\n",
    "plt.bar(average_price_per_model['fuelType'], average_price_per_model['price'], color='skyblue')\n",
    "plt.xlabel('fuelType')\n",
    "plt.ylabel('Average Price')\n",
    "plt.title('Transmisson')\n",
    "plt.xticks(rotation=45)\n",
    "plt.grid(axis='y')\n",
    "plt.tight_layout()\n",
    "plt.show()"
   ]
  },
  {
   "cell_type": "code",
   "execution_count": null,
   "metadata": {},
   "outputs": [],
   "source": []
  },
  {
   "cell_type": "code",
   "execution_count": null,
   "metadata": {},
   "outputs": [],
   "source": []
  },
  {
   "cell_type": "code",
   "execution_count": null,
   "metadata": {},
   "outputs": [],
   "source": []
  },
  {
   "cell_type": "code",
   "execution_count": null,
   "metadata": {},
   "outputs": [],
   "source": []
  },
  {
   "cell_type": "code",
   "execution_count": null,
   "metadata": {},
   "outputs": [],
   "source": []
  },
  {
   "cell_type": "code",
   "execution_count": null,
   "metadata": {},
   "outputs": [],
   "source": []
  },
  {
   "cell_type": "code",
   "execution_count": null,
   "metadata": {},
   "outputs": [],
   "source": []
  },
  {
   "cell_type": "code",
   "execution_count": null,
   "metadata": {},
   "outputs": [],
   "source": []
  },
  {
   "cell_type": "code",
   "execution_count": null,
   "metadata": {},
   "outputs": [],
   "source": []
  },
  {
   "cell_type": "code",
   "execution_count": null,
   "metadata": {},
   "outputs": [],
   "source": []
  },
  {
   "cell_type": "code",
   "execution_count": null,
   "metadata": {},
   "outputs": [],
   "source": []
  },
  {
   "cell_type": "code",
   "execution_count": null,
   "metadata": {},
   "outputs": [],
   "source": []
  },
  {
   "cell_type": "code",
   "execution_count": null,
   "metadata": {},
   "outputs": [],
   "source": []
  },
  {
   "cell_type": "code",
   "execution_count": null,
   "metadata": {},
   "outputs": [],
   "source": []
  }
 ],
 "metadata": {
  "kernelspec": {
   "display_name": "Python 3.9.12 ('base')",
   "language": "python",
   "name": "python3"
  },
  "language_info": {
   "codemirror_mode": {
    "name": "ipython",
    "version": 3
   },
   "file_extension": ".py",
   "mimetype": "text/x-python",
   "name": "python",
   "nbconvert_exporter": "python",
   "pygments_lexer": "ipython3",
   "version": "3.9.12"
  },
  "orig_nbformat": 4,
  "vscode": {
   "interpreter": {
    "hash": "e66c12fa165c4521107f9d407fd84d03277064fe314ee738b3a872558a8f6819"
   }
  }
 },
 "nbformat": 4,
 "nbformat_minor": 2
}
