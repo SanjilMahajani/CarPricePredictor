{
 "cells": [
  {
   "cell_type": "markdown",
   "metadata": {},
   "source": [
    "IN THIS SECTION WE WILL TRY TO EXPLORE RELATIONSHIPS BETWEEN DIFFERENT VARIABLES, WILL TRY TO FIND THE OUTLIERS ETC."
   ]
  },
  {
   "cell_type": "code",
   "execution_count": 2,
   "metadata": {},
   "outputs": [],
   "source": [
    "import pandas as pd\n",
    "df=pd.read_csv('cleansed_merc.csv')"
   ]
  },
  {
   "cell_type": "code",
   "execution_count": 3,
   "metadata": {},
   "outputs": [
    {
     "data": {
      "text/html": [
       "<div>\n",
       "<style scoped>\n",
       "    .dataframe tbody tr th:only-of-type {\n",
       "        vertical-align: middle;\n",
       "    }\n",
       "\n",
       "    .dataframe tbody tr th {\n",
       "        vertical-align: top;\n",
       "    }\n",
       "\n",
       "    .dataframe thead th {\n",
       "        text-align: right;\n",
       "    }\n",
       "</style>\n",
       "<table border=\"1\" class=\"dataframe\">\n",
       "  <thead>\n",
       "    <tr style=\"text-align: right;\">\n",
       "      <th></th>\n",
       "      <th>model</th>\n",
       "      <th>year</th>\n",
       "      <th>price</th>\n",
       "      <th>transmission</th>\n",
       "      <th>mileage</th>\n",
       "      <th>fuelType</th>\n",
       "      <th>mpg</th>\n",
       "      <th>engineSize</th>\n",
       "    </tr>\n",
       "  </thead>\n",
       "  <tbody>\n",
       "    <tr>\n",
       "      <th>0</th>\n",
       "      <td>SLK</td>\n",
       "      <td>2005</td>\n",
       "      <td>5200</td>\n",
       "      <td>Automatic</td>\n",
       "      <td>63000</td>\n",
       "      <td>Petrol</td>\n",
       "      <td>32.1</td>\n",
       "      <td>1.8</td>\n",
       "    </tr>\n",
       "    <tr>\n",
       "      <th>1</th>\n",
       "      <td>S Class</td>\n",
       "      <td>2017</td>\n",
       "      <td>34948</td>\n",
       "      <td>Automatic</td>\n",
       "      <td>27000</td>\n",
       "      <td>Hybrid</td>\n",
       "      <td>61.4</td>\n",
       "      <td>2.1</td>\n",
       "    </tr>\n",
       "    <tr>\n",
       "      <th>2</th>\n",
       "      <td>SL CLASS</td>\n",
       "      <td>2016</td>\n",
       "      <td>49948</td>\n",
       "      <td>Automatic</td>\n",
       "      <td>6200</td>\n",
       "      <td>Petrol</td>\n",
       "      <td>28.0</td>\n",
       "      <td>5.5</td>\n",
       "    </tr>\n",
       "    <tr>\n",
       "      <th>3</th>\n",
       "      <td>G Class</td>\n",
       "      <td>2016</td>\n",
       "      <td>61948</td>\n",
       "      <td>Automatic</td>\n",
       "      <td>16000</td>\n",
       "      <td>Petrol</td>\n",
       "      <td>30.4</td>\n",
       "      <td>4.0</td>\n",
       "    </tr>\n",
       "    <tr>\n",
       "      <th>4</th>\n",
       "      <td>G Class</td>\n",
       "      <td>2016</td>\n",
       "      <td>73948</td>\n",
       "      <td>Automatic</td>\n",
       "      <td>4000</td>\n",
       "      <td>Petrol</td>\n",
       "      <td>30.1</td>\n",
       "      <td>4.0</td>\n",
       "    </tr>\n",
       "    <tr>\n",
       "      <th>...</th>\n",
       "      <td>...</td>\n",
       "      <td>...</td>\n",
       "      <td>...</td>\n",
       "      <td>...</td>\n",
       "      <td>...</td>\n",
       "      <td>...</td>\n",
       "      <td>...</td>\n",
       "      <td>...</td>\n",
       "    </tr>\n",
       "    <tr>\n",
       "      <th>12855</th>\n",
       "      <td>C Class</td>\n",
       "      <td>2020</td>\n",
       "      <td>35999</td>\n",
       "      <td>Automatic</td>\n",
       "      <td>500</td>\n",
       "      <td>Diesel</td>\n",
       "      <td>55.4</td>\n",
       "      <td>2.0</td>\n",
       "    </tr>\n",
       "    <tr>\n",
       "      <th>12856</th>\n",
       "      <td>B Class</td>\n",
       "      <td>2020</td>\n",
       "      <td>24699</td>\n",
       "      <td>Automatic</td>\n",
       "      <td>2500</td>\n",
       "      <td>Diesel</td>\n",
       "      <td>55.4</td>\n",
       "      <td>2.0</td>\n",
       "    </tr>\n",
       "    <tr>\n",
       "      <th>12857</th>\n",
       "      <td>GLC Class</td>\n",
       "      <td>2019</td>\n",
       "      <td>30999</td>\n",
       "      <td>Automatic</td>\n",
       "      <td>11612</td>\n",
       "      <td>Diesel</td>\n",
       "      <td>41.5</td>\n",
       "      <td>2.1</td>\n",
       "    </tr>\n",
       "    <tr>\n",
       "      <th>12858</th>\n",
       "      <td>CLS Class</td>\n",
       "      <td>2019</td>\n",
       "      <td>37990</td>\n",
       "      <td>Automatic</td>\n",
       "      <td>2426</td>\n",
       "      <td>Diesel</td>\n",
       "      <td>45.6</td>\n",
       "      <td>2.0</td>\n",
       "    </tr>\n",
       "    <tr>\n",
       "      <th>12859</th>\n",
       "      <td>S Class</td>\n",
       "      <td>2019</td>\n",
       "      <td>54999</td>\n",
       "      <td>Automatic</td>\n",
       "      <td>2075</td>\n",
       "      <td>Diesel</td>\n",
       "      <td>52.3</td>\n",
       "      <td>2.9</td>\n",
       "    </tr>\n",
       "  </tbody>\n",
       "</table>\n",
       "<p>12860 rows × 8 columns</p>\n",
       "</div>"
      ],
      "text/plain": [
       "            model  year  price transmission  mileage fuelType   mpg  \\\n",
       "0             SLK  2005   5200    Automatic    63000   Petrol  32.1   \n",
       "1         S Class  2017  34948    Automatic    27000   Hybrid  61.4   \n",
       "2        SL CLASS  2016  49948    Automatic     6200   Petrol  28.0   \n",
       "3         G Class  2016  61948    Automatic    16000   Petrol  30.4   \n",
       "4         G Class  2016  73948    Automatic     4000   Petrol  30.1   \n",
       "...           ...   ...    ...          ...      ...      ...   ...   \n",
       "12855     C Class  2020  35999    Automatic      500   Diesel  55.4   \n",
       "12856     B Class  2020  24699    Automatic     2500   Diesel  55.4   \n",
       "12857   GLC Class  2019  30999    Automatic    11612   Diesel  41.5   \n",
       "12858   CLS Class  2019  37990    Automatic     2426   Diesel  45.6   \n",
       "12859     S Class  2019  54999    Automatic     2075   Diesel  52.3   \n",
       "\n",
       "       engineSize  \n",
       "0             1.8  \n",
       "1             2.1  \n",
       "2             5.5  \n",
       "3             4.0  \n",
       "4             4.0  \n",
       "...           ...  \n",
       "12855         2.0  \n",
       "12856         2.0  \n",
       "12857         2.1  \n",
       "12858         2.0  \n",
       "12859         2.9  \n",
       "\n",
       "[12860 rows x 8 columns]"
      ]
     },
     "execution_count": 3,
     "metadata": {},
     "output_type": "execute_result"
    }
   ],
   "source": [
    "df"
   ]
  },
  {
   "cell_type": "markdown",
   "metadata": {},
   "source": [
    "CHECKING THE DISTRIBUTION OF DATA"
   ]
  },
  {
   "cell_type": "markdown",
   "metadata": {},
   "source": [
    "HERE WE CAN SEE THAT THE \"OTHER\" CATEGORIES IN TRANSMISSON AND FUELTYPE IS LESS THAN 1% SO WE CAN DELETE IT"
   ]
  },
  {
   "cell_type": "code",
   "execution_count": 4,
   "metadata": {},
   "outputs": [
    {
     "data": {
      "text/plain": [
       "Semi-Auto    6641\n",
       "Automatic    4797\n",
       "Manual       1420\n",
       "Other           2\n",
       "Name: transmission, dtype: int64"
      ]
     },
     "execution_count": 4,
     "metadata": {},
     "output_type": "execute_result"
    }
   ],
   "source": [
    "df['transmission'].value_counts()"
   ]
  },
  {
   "cell_type": "code",
   "execution_count": 5,
   "metadata": {},
   "outputs": [],
   "source": [
    "df=df[df['transmission']!='Other']"
   ]
  },
  {
   "cell_type": "code",
   "execution_count": 6,
   "metadata": {},
   "outputs": [
    {
     "data": {
      "text/plain": [
       "Diesel    9033\n",
       "Petrol    3649\n",
       "Hybrid     170\n",
       "Other        6\n",
       "Name: fuelType, dtype: int64"
      ]
     },
     "execution_count": 6,
     "metadata": {},
     "output_type": "execute_result"
    }
   ],
   "source": [
    "df['fuelType'].value_counts()"
   ]
  },
  {
   "cell_type": "code",
   "execution_count": 7,
   "metadata": {},
   "outputs": [],
   "source": [
    "df=df[df['fuelType']!='Other']"
   ]
  },
  {
   "cell_type": "code",
   "execution_count": 8,
   "metadata": {},
   "outputs": [
    {
     "data": {
      "text/plain": [
       "(12852, 8)"
      ]
     },
     "execution_count": 8,
     "metadata": {},
     "output_type": "execute_result"
    }
   ],
   "source": [
    "df.shape"
   ]
  },
  {
   "cell_type": "markdown",
   "metadata": {},
   "source": [
    "BUT IN FUELTYPE THE IMBALANCE IS HUGE WHICH WILL CREATE BIAS IN THE MODEL SO NEED TO TREAT THAT"
   ]
  },
  {
   "cell_type": "code",
   "execution_count": 9,
   "metadata": {},
   "outputs": [],
   "source": [
    "from sklearn.utils import resample\n",
    "df_diesel = df[df['fuelType'] == 'Diesel']\n",
    "df_petrol = df[df['fuelType'] == 'Petrol']\n",
    "df_hybrid = df[df['fuelType'] == 'Hybrid']\n",
    "df_hybrid_upsampled = resample(df_hybrid, replace=True, n_samples=2500, random_state=42)\n",
    "df = pd.concat([df_diesel, df_petrol, df_hybrid_upsampled])\n",
    "\n",
    "# Shuffle the dataset to randomize the order of samples\n",
    "df = df.sample(frac=1, random_state=42).reset_index(drop=True)"
   ]
  },
  {
   "cell_type": "code",
   "execution_count": 10,
   "metadata": {},
   "outputs": [
    {
     "data": {
      "text/plain": [
       "(15182, 8)"
      ]
     },
     "execution_count": 10,
     "metadata": {},
     "output_type": "execute_result"
    }
   ],
   "source": [
    "df.shape"
   ]
  },
  {
   "cell_type": "code",
   "execution_count": 11,
   "metadata": {},
   "outputs": [
    {
     "data": {
      "text/plain": [
       "Diesel    9033\n",
       "Petrol    3649\n",
       "Hybrid    2500\n",
       "Name: fuelType, dtype: int64"
      ]
     },
     "execution_count": 11,
     "metadata": {},
     "output_type": "execute_result"
    }
   ],
   "source": [
    "df['fuelType'].value_counts()"
   ]
  },
  {
   "cell_type": "code",
   "execution_count": 12,
   "metadata": {},
   "outputs": [
    {
     "data": {
      "text/plain": [
       "2019    4852\n",
       "2017    2934\n",
       "2016    2836\n",
       "2018    1476\n",
       "2015    1344\n",
       "2020     657\n",
       "2014     511\n",
       "2013     318\n",
       "2012      57\n",
       "2011      38\n",
       "2010      38\n",
       "2007      22\n",
       "2009      17\n",
       "2008      16\n",
       "2004      13\n",
       "2001      10\n",
       "2002       9\n",
       "2005       9\n",
       "2006       8\n",
       "2003       7\n",
       "1998       4\n",
       "2000       3\n",
       "1999       1\n",
       "1997       1\n",
       "1970       1\n",
       "Name: year, dtype: int64"
      ]
     },
     "execution_count": 12,
     "metadata": {},
     "output_type": "execute_result"
    }
   ],
   "source": [
    "df['year'].value_counts()"
   ]
  },
  {
   "cell_type": "markdown",
   "metadata": {},
   "source": [
    "WE WILL DELETE YEARS 1999,1970 AND 1997"
   ]
  },
  {
   "cell_type": "code",
   "execution_count": 13,
   "metadata": {},
   "outputs": [],
   "source": [
    "df['year']=df['year'].astype(str)"
   ]
  },
  {
   "cell_type": "code",
   "execution_count": 14,
   "metadata": {},
   "outputs": [],
   "source": [
    "lst=['1970','1999','1997']\n",
    "df=df[~df['year'].isin(lst)]"
   ]
  },
  {
   "cell_type": "code",
   "execution_count": 15,
   "metadata": {},
   "outputs": [
    {
     "data": {
      "text/html": [
       "<div>\n",
       "<style scoped>\n",
       "    .dataframe tbody tr th:only-of-type {\n",
       "        vertical-align: middle;\n",
       "    }\n",
       "\n",
       "    .dataframe tbody tr th {\n",
       "        vertical-align: top;\n",
       "    }\n",
       "\n",
       "    .dataframe thead th {\n",
       "        text-align: right;\n",
       "    }\n",
       "</style>\n",
       "<table border=\"1\" class=\"dataframe\">\n",
       "  <thead>\n",
       "    <tr style=\"text-align: right;\">\n",
       "      <th></th>\n",
       "      <th>model</th>\n",
       "      <th>year</th>\n",
       "      <th>price</th>\n",
       "      <th>transmission</th>\n",
       "      <th>mileage</th>\n",
       "      <th>fuelType</th>\n",
       "      <th>mpg</th>\n",
       "      <th>engineSize</th>\n",
       "    </tr>\n",
       "  </thead>\n",
       "  <tbody>\n",
       "    <tr>\n",
       "      <th>0</th>\n",
       "      <td>C Class</td>\n",
       "      <td>2016</td>\n",
       "      <td>17000</td>\n",
       "      <td>Automatic</td>\n",
       "      <td>29947</td>\n",
       "      <td>Diesel</td>\n",
       "      <td>61.4</td>\n",
       "      <td>2.1</td>\n",
       "    </tr>\n",
       "    <tr>\n",
       "      <th>1</th>\n",
       "      <td>C Class</td>\n",
       "      <td>2016</td>\n",
       "      <td>17799</td>\n",
       "      <td>Automatic</td>\n",
       "      <td>53613</td>\n",
       "      <td>Diesel</td>\n",
       "      <td>64.2</td>\n",
       "      <td>2.1</td>\n",
       "    </tr>\n",
       "    <tr>\n",
       "      <th>2</th>\n",
       "      <td>E Class</td>\n",
       "      <td>2014</td>\n",
       "      <td>14499</td>\n",
       "      <td>Semi-Auto</td>\n",
       "      <td>33702</td>\n",
       "      <td>Diesel</td>\n",
       "      <td>54.3</td>\n",
       "      <td>2.1</td>\n",
       "    </tr>\n",
       "    <tr>\n",
       "      <th>3</th>\n",
       "      <td>C Class</td>\n",
       "      <td>2016</td>\n",
       "      <td>19698</td>\n",
       "      <td>Automatic</td>\n",
       "      <td>25107</td>\n",
       "      <td>Hybrid</td>\n",
       "      <td>134.5</td>\n",
       "      <td>2.0</td>\n",
       "    </tr>\n",
       "    <tr>\n",
       "      <th>4</th>\n",
       "      <td>B Class</td>\n",
       "      <td>2017</td>\n",
       "      <td>15490</td>\n",
       "      <td>Semi-Auto</td>\n",
       "      <td>28000</td>\n",
       "      <td>Petrol</td>\n",
       "      <td>51.4</td>\n",
       "      <td>1.6</td>\n",
       "    </tr>\n",
       "    <tr>\n",
       "      <th>...</th>\n",
       "      <td>...</td>\n",
       "      <td>...</td>\n",
       "      <td>...</td>\n",
       "      <td>...</td>\n",
       "      <td>...</td>\n",
       "      <td>...</td>\n",
       "      <td>...</td>\n",
       "      <td>...</td>\n",
       "    </tr>\n",
       "    <tr>\n",
       "      <th>15177</th>\n",
       "      <td>GLE Class</td>\n",
       "      <td>2017</td>\n",
       "      <td>30599</td>\n",
       "      <td>Semi-Auto</td>\n",
       "      <td>23732</td>\n",
       "      <td>Diesel</td>\n",
       "      <td>47.9</td>\n",
       "      <td>2.1</td>\n",
       "    </tr>\n",
       "    <tr>\n",
       "      <th>15178</th>\n",
       "      <td>C Class</td>\n",
       "      <td>2016</td>\n",
       "      <td>14998</td>\n",
       "      <td>Semi-Auto</td>\n",
       "      <td>66732</td>\n",
       "      <td>Hybrid</td>\n",
       "      <td>78.5</td>\n",
       "      <td>2.1</td>\n",
       "    </tr>\n",
       "    <tr>\n",
       "      <th>15179</th>\n",
       "      <td>A Class</td>\n",
       "      <td>2017</td>\n",
       "      <td>16000</td>\n",
       "      <td>Semi-Auto</td>\n",
       "      <td>32000</td>\n",
       "      <td>Diesel</td>\n",
       "      <td>74.3</td>\n",
       "      <td>1.5</td>\n",
       "    </tr>\n",
       "    <tr>\n",
       "      <th>15180</th>\n",
       "      <td>A Class</td>\n",
       "      <td>2014</td>\n",
       "      <td>10990</td>\n",
       "      <td>Semi-Auto</td>\n",
       "      <td>49799</td>\n",
       "      <td>Diesel</td>\n",
       "      <td>68.9</td>\n",
       "      <td>2.1</td>\n",
       "    </tr>\n",
       "    <tr>\n",
       "      <th>15181</th>\n",
       "      <td>CL Class</td>\n",
       "      <td>2016</td>\n",
       "      <td>18300</td>\n",
       "      <td>Automatic</td>\n",
       "      <td>42550</td>\n",
       "      <td>Diesel</td>\n",
       "      <td>67.3</td>\n",
       "      <td>2.1</td>\n",
       "    </tr>\n",
       "  </tbody>\n",
       "</table>\n",
       "<p>15179 rows × 8 columns</p>\n",
       "</div>"
      ],
      "text/plain": [
       "            model  year  price transmission  mileage fuelType    mpg  \\\n",
       "0         C Class  2016  17000    Automatic    29947   Diesel   61.4   \n",
       "1         C Class  2016  17799    Automatic    53613   Diesel   64.2   \n",
       "2         E Class  2014  14499    Semi-Auto    33702   Diesel   54.3   \n",
       "3         C Class  2016  19698    Automatic    25107   Hybrid  134.5   \n",
       "4         B Class  2017  15490    Semi-Auto    28000   Petrol   51.4   \n",
       "...           ...   ...    ...          ...      ...      ...    ...   \n",
       "15177   GLE Class  2017  30599    Semi-Auto    23732   Diesel   47.9   \n",
       "15178     C Class  2016  14998    Semi-Auto    66732   Hybrid   78.5   \n",
       "15179     A Class  2017  16000    Semi-Auto    32000   Diesel   74.3   \n",
       "15180     A Class  2014  10990    Semi-Auto    49799   Diesel   68.9   \n",
       "15181    CL Class  2016  18300    Automatic    42550   Diesel   67.3   \n",
       "\n",
       "       engineSize  \n",
       "0             2.1  \n",
       "1             2.1  \n",
       "2             2.1  \n",
       "3             2.0  \n",
       "4             1.6  \n",
       "...           ...  \n",
       "15177         2.1  \n",
       "15178         2.1  \n",
       "15179         1.5  \n",
       "15180         2.1  \n",
       "15181         2.1  \n",
       "\n",
       "[15179 rows x 8 columns]"
      ]
     },
     "execution_count": 15,
     "metadata": {},
     "output_type": "execute_result"
    }
   ],
   "source": [
    "df"
   ]
  },
  {
   "cell_type": "code",
   "execution_count": 16,
   "metadata": {},
   "outputs": [
    {
     "data": {
      "image/png": "[encoded data removed]",
      "text/plain": [
       "<Figure size 720x432 with 1 Axes>"
      ]
     },
     "metadata": {
      "needs_background": "light"
     },
     "output_type": "display_data"
    }
   ],
   "source": [
    "import pandas as pd\n",
    "import matplotlib.pyplot as plt\n",
    "\n",
    "# Load your dataset into a Pandas DataFrame\n",
    "\n",
    "\n",
    "# Count the occurrences of each unique value in the \"model\" column\n",
    "model_counts = df['year'].value_counts()\n",
    "\n",
    "# Plot a bar chart\n",
    "plt.figure(figsize=(10, 6))  # Adjust the figure size as needed\n",
    "model_counts.plot(kind='bar')\n",
    "plt.title('Counts of Different Models')\n",
    "plt.xlabel('Year')\n",
    "plt.ylabel('Count')\n",
    "plt.xticks(rotation=45)  # Rotate x-axis labels for better readability\n",
    "plt.grid(axis='y')  # Add gridlines along the y-axis\n",
    "plt.tight_layout()  # Adjust layout to prevent clipping of labels\n",
    "plt.show()"
   ]
  },
  {
   "cell_type": "code",
   "execution_count": 17,
   "metadata": {},
   "outputs": [
    {
     "data": {
      "text/plain": [
       "array([' C Class', ' E Class', ' B Class', ' GLA Class', ' A Class',\n",
       "       ' GLC Class', ' CLS Class', ' CL Class', ' GLE Class', ' SL CLASS',\n",
       "       ' S Class', ' GL Class', ' GLS Class', ' M Class', ' V Class',\n",
       "       ' CLA Class', ' CLC Class', ' X-CLASS', ' SLK', ' GLB Class',\n",
       "       ' CLK', ' G Class', '200', '180', ' R Class', '230', '220'],\n",
       "      dtype=object)"
      ]
     },
     "execution_count": 17,
     "metadata": {},
     "output_type": "execute_result"
    }
   ],
   "source": [
    "df['model'].unique()"
   ]
  },
  {
   "cell_type": "code",
   "execution_count": 18,
   "metadata": {},
   "outputs": [
    {
     "data": {
      "image/png": "[encoded data removed]",
      "text/plain": [
       "<Figure size 720x432 with 1 Axes>"
      ]
     },
     "metadata": {
      "needs_background": "light"
     },
     "output_type": "display_data"
    }
   ],
   "source": [
    "import pandas as pd\n",
    "import matplotlib.pyplot as plt\n",
    "\n",
    "# Load your dataset into a Pandas DataFrame\n",
    "\n",
    "\n",
    "# Count the occurrences of each unique value in the \"model\" column\n",
    "model_counts = df['model'].value_counts()\n",
    "\n",
    "# Plot a bar chart\n",
    "plt.figure(figsize=(10, 6))  # Adjust the figure size as needed\n",
    "model_counts.plot(kind='bar')\n",
    "plt.title('Counts of Different Models')\n",
    "plt.xlabel('Model')\n",
    "plt.ylabel('Count')\n",
    "plt.xticks(rotation=45)  # Rotate x-axis labels for better readability\n",
    "plt.grid(axis='y')  # Add gridlines along the y-axis\n",
    "plt.tight_layout()  # Adjust layout to prevent clipping of labels\n",
    "plt.show()\n"
   ]
  },
  {
   "cell_type": "code",
   "execution_count": 19,
   "metadata": {},
   "outputs": [],
   "source": [
    "model_counts = df['model'].value_counts()"
   ]
  },
  {
   "cell_type": "code",
   "execution_count": 20,
   "metadata": {},
   "outputs": [
    {
     "data": {
      "text/plain": [
       " C Class      5421\n",
       " A Class      2505\n",
       " E Class      2324\n",
       " GLC Class     935\n",
       " GLA Class     826\n",
       " B Class       569\n",
       " CL Class      508\n",
       " GLE Class     505\n",
       " S Class       313\n",
       " SL CLASS      258\n",
       " CLS Class     237\n",
       " V Class       203\n",
       " GL Class      121\n",
       " SLK            94\n",
       " CLA Class      86\n",
       " M Class        78\n",
       " GLS Class      74\n",
       " X-CLASS        73\n",
       " GLB Class      18\n",
       " G Class        15\n",
       " CLK             7\n",
       " CLC Class       3\n",
       " R Class         2\n",
       "200              1\n",
       "180              1\n",
       "230              1\n",
       "220              1\n",
       "Name: model, dtype: int64"
      ]
     },
     "execution_count": 20,
     "metadata": {},
     "output_type": "execute_result"
    }
   ],
   "source": [
    "model_counts"
   ]
  },
  {
   "cell_type": "markdown",
   "metadata": {},
   "source": [
    "WE CAN SEE THAT MODEL WITH LESS THAN 10 COUNT WILL NOT PROVIDE ANY SIGNIFICANT IMPACT TO THE MODEL SO WE CAN JUST GROUP IT AND NAME IT AS \"OTHER\""
   ]
  },
  {
   "cell_type": "code",
   "execution_count": 21,
   "metadata": {},
   "outputs": [],
   "source": [
    "models_to_replace = model_counts[model_counts < 10].index\n",
    "\n",
    "# Replace values in the \"model\" column with count less than 10 with \"Other\"\n",
    "df['model'] = df['model'].replace(models_to_replace, 'Other')\n"
   ]
  },
  {
   "cell_type": "code",
   "execution_count": 22,
   "metadata": {},
   "outputs": [
    {
     "data": {
      "text/plain": [
       " C Class      5421\n",
       " A Class      2505\n",
       " E Class      2324\n",
       " GLC Class     935\n",
       " GLA Class     826\n",
       " B Class       569\n",
       " CL Class      508\n",
       " GLE Class     505\n",
       " S Class       313\n",
       " SL CLASS      258\n",
       " CLS Class     237\n",
       " V Class       203\n",
       " GL Class      121\n",
       " SLK            94\n",
       " CLA Class      86\n",
       " M Class        78\n",
       " GLS Class      74\n",
       " X-CLASS        73\n",
       " GLB Class      18\n",
       "Other           16\n",
       " G Class        15\n",
       "Name: model, dtype: int64"
      ]
     },
     "execution_count": 22,
     "metadata": {},
     "output_type": "execute_result"
    }
   ],
   "source": [
    "df['model'].value_counts()"
   ]
  },
  {
   "cell_type": "code",
   "execution_count": 23,
   "metadata": {},
   "outputs": [
    {
     "data": {
      "text/html": [
       "<div>\n",
       "<style scoped>\n",
       "    .dataframe tbody tr th:only-of-type {\n",
       "        vertical-align: middle;\n",
       "    }\n",
       "\n",
       "    .dataframe tbody tr th {\n",
       "        vertical-align: top;\n",
       "    }\n",
       "\n",
       "    .dataframe thead th {\n",
       "        text-align: right;\n",
       "    }\n",
       "</style>\n",
       "<table border=\"1\" class=\"dataframe\">\n",
       "  <thead>\n",
       "    <tr style=\"text-align: right;\">\n",
       "      <th></th>\n",
       "      <th>model</th>\n",
       "      <th>year</th>\n",
       "      <th>price</th>\n",
       "      <th>transmission</th>\n",
       "      <th>mileage</th>\n",
       "      <th>fuelType</th>\n",
       "      <th>mpg</th>\n",
       "      <th>engineSize</th>\n",
       "    </tr>\n",
       "  </thead>\n",
       "  <tbody>\n",
       "    <tr>\n",
       "      <th>0</th>\n",
       "      <td>C Class</td>\n",
       "      <td>2016</td>\n",
       "      <td>17000</td>\n",
       "      <td>Automatic</td>\n",
       "      <td>29947</td>\n",
       "      <td>Diesel</td>\n",
       "      <td>61.4</td>\n",
       "      <td>2.1</td>\n",
       "    </tr>\n",
       "    <tr>\n",
       "      <th>1</th>\n",
       "      <td>C Class</td>\n",
       "      <td>2016</td>\n",
       "      <td>17799</td>\n",
       "      <td>Automatic</td>\n",
       "      <td>53613</td>\n",
       "      <td>Diesel</td>\n",
       "      <td>64.2</td>\n",
       "      <td>2.1</td>\n",
       "    </tr>\n",
       "    <tr>\n",
       "      <th>2</th>\n",
       "      <td>E Class</td>\n",
       "      <td>2014</td>\n",
       "      <td>14499</td>\n",
       "      <td>Semi-Auto</td>\n",
       "      <td>33702</td>\n",
       "      <td>Diesel</td>\n",
       "      <td>54.3</td>\n",
       "      <td>2.1</td>\n",
       "    </tr>\n",
       "    <tr>\n",
       "      <th>3</th>\n",
       "      <td>C Class</td>\n",
       "      <td>2016</td>\n",
       "      <td>19698</td>\n",
       "      <td>Automatic</td>\n",
       "      <td>25107</td>\n",
       "      <td>Hybrid</td>\n",
       "      <td>134.5</td>\n",
       "      <td>2.0</td>\n",
       "    </tr>\n",
       "    <tr>\n",
       "      <th>4</th>\n",
       "      <td>B Class</td>\n",
       "      <td>2017</td>\n",
       "      <td>15490</td>\n",
       "      <td>Semi-Auto</td>\n",
       "      <td>28000</td>\n",
       "      <td>Petrol</td>\n",
       "      <td>51.4</td>\n",
       "      <td>1.6</td>\n",
       "    </tr>\n",
       "    <tr>\n",
       "      <th>...</th>\n",
       "      <td>...</td>\n",
       "      <td>...</td>\n",
       "      <td>...</td>\n",
       "      <td>...</td>\n",
       "      <td>...</td>\n",
       "      <td>...</td>\n",
       "      <td>...</td>\n",
       "      <td>...</td>\n",
       "    </tr>\n",
       "    <tr>\n",
       "      <th>15177</th>\n",
       "      <td>GLE Class</td>\n",
       "      <td>2017</td>\n",
       "      <td>30599</td>\n",
       "      <td>Semi-Auto</td>\n",
       "      <td>23732</td>\n",
       "      <td>Diesel</td>\n",
       "      <td>47.9</td>\n",
       "      <td>2.1</td>\n",
       "    </tr>\n",
       "    <tr>\n",
       "      <th>15178</th>\n",
       "      <td>C Class</td>\n",
       "      <td>2016</td>\n",
       "      <td>14998</td>\n",
       "      <td>Semi-Auto</td>\n",
       "      <td>66732</td>\n",
       "      <td>Hybrid</td>\n",
       "      <td>78.5</td>\n",
       "      <td>2.1</td>\n",
       "    </tr>\n",
       "    <tr>\n",
       "      <th>15179</th>\n",
       "      <td>A Class</td>\n",
       "      <td>2017</td>\n",
       "      <td>16000</td>\n",
       "      <td>Semi-Auto</td>\n",
       "      <td>32000</td>\n",
       "      <td>Diesel</td>\n",
       "      <td>74.3</td>\n",
       "      <td>1.5</td>\n",
       "    </tr>\n",
       "    <tr>\n",
       "      <th>15180</th>\n",
       "      <td>A Class</td>\n",
       "      <td>2014</td>\n",
       "      <td>10990</td>\n",
       "      <td>Semi-Auto</td>\n",
       "      <td>49799</td>\n",
       "      <td>Diesel</td>\n",
       "      <td>68.9</td>\n",
       "      <td>2.1</td>\n",
       "    </tr>\n",
       "    <tr>\n",
       "      <th>15181</th>\n",
       "      <td>CL Class</td>\n",
       "      <td>2016</td>\n",
       "      <td>18300</td>\n",
       "      <td>Automatic</td>\n",
       "      <td>42550</td>\n",
       "      <td>Diesel</td>\n",
       "      <td>67.3</td>\n",
       "      <td>2.1</td>\n",
       "    </tr>\n",
       "  </tbody>\n",
       "</table>\n",
       "<p>15179 rows × 8 columns</p>\n",
       "</div>"
      ],
      "text/plain": [
       "            model  year  price transmission  mileage fuelType    mpg  \\\n",
       "0         C Class  2016  17000    Automatic    29947   Diesel   61.4   \n",
       "1         C Class  2016  17799    Automatic    53613   Diesel   64.2   \n",
       "2         E Class  2014  14499    Semi-Auto    33702   Diesel   54.3   \n",
       "3         C Class  2016  19698    Automatic    25107   Hybrid  134.5   \n",
       "4         B Class  2017  15490    Semi-Auto    28000   Petrol   51.4   \n",
       "...           ...   ...    ...          ...      ...      ...    ...   \n",
       "15177   GLE Class  2017  30599    Semi-Auto    23732   Diesel   47.9   \n",
       "15178     C Class  2016  14998    Semi-Auto    66732   Hybrid   78.5   \n",
       "15179     A Class  2017  16000    Semi-Auto    32000   Diesel   74.3   \n",
       "15180     A Class  2014  10990    Semi-Auto    49799   Diesel   68.9   \n",
       "15181    CL Class  2016  18300    Automatic    42550   Diesel   67.3   \n",
       "\n",
       "       engineSize  \n",
       "0             2.1  \n",
       "1             2.1  \n",
       "2             2.1  \n",
       "3             2.0  \n",
       "4             1.6  \n",
       "...           ...  \n",
       "15177         2.1  \n",
       "15178         2.1  \n",
       "15179         1.5  \n",
       "15180         2.1  \n",
       "15181         2.1  \n",
       "\n",
       "[15179 rows x 8 columns]"
      ]
     },
     "execution_count": 23,
     "metadata": {},
     "output_type": "execute_result"
    }
   ],
   "source": [
    "df"
   ]
  },
  {
   "cell_type": "markdown",
   "metadata": {},
   "source": [
    "FIND OUT RELATIONSHIPS BETWEEN MY INDEPENDENT VARIABLES AND MY DEPENDNT VARIABLES"
   ]
  },
  {
   "cell_type": "code",
   "execution_count": 24,
   "metadata": {},
   "outputs": [
    {
     "data": {
      "image/png": "[encoded data removed]",
      "text/plain": [
       "<Figure size 864x576 with 1 Axes>"
      ]
     },
     "metadata": {
      "needs_background": "light"
     },
     "output_type": "display_data"
    }
   ],
   "source": [
    "import seaborn as sns\n",
    "import matplotlib.pyplot as plt\n",
    "average_price_per_model = df.groupby('model')['price'].mean().reset_index()\n",
    "\n",
    "# Sort the dataframe by average price\n",
    "average_price_per_model = average_price_per_model.sort_values(by='price')\n",
    "\n",
    "# Plot\n",
    "plt.figure(figsize=(12, 8))\n",
    "plt.bar(average_price_per_model['model'], average_price_per_model['price'], color='skyblue')\n",
    "plt.xlabel('Car Model')\n",
    "plt.ylabel('Average Price')\n",
    "plt.title('Average Price of Car Models')\n",
    "plt.xticks(rotation=45)\n",
    "plt.grid(axis='y')\n",
    "plt.tight_layout()\n",
    "plt.show()"
   ]
  },
  {
   "cell_type": "code",
   "execution_count": 25,
   "metadata": {},
   "outputs": [
    {
     "data": {
      "text/html": [
       "<div>\n",
       "<style scoped>\n",
       "    .dataframe tbody tr th:only-of-type {\n",
       "        vertical-align: middle;\n",
       "    }\n",
       "\n",
       "    .dataframe tbody tr th {\n",
       "        vertical-align: top;\n",
       "    }\n",
       "\n",
       "    .dataframe thead th {\n",
       "        text-align: right;\n",
       "    }\n",
       "</style>\n",
       "<table border=\"1\" class=\"dataframe\">\n",
       "  <thead>\n",
       "    <tr style=\"text-align: right;\">\n",
       "      <th></th>\n",
       "      <th>model</th>\n",
       "      <th>year</th>\n",
       "      <th>price</th>\n",
       "      <th>transmission</th>\n",
       "      <th>mileage</th>\n",
       "      <th>fuelType</th>\n",
       "      <th>mpg</th>\n",
       "      <th>engineSize</th>\n",
       "    </tr>\n",
       "  </thead>\n",
       "  <tbody>\n",
       "    <tr>\n",
       "      <th>0</th>\n",
       "      <td>C Class</td>\n",
       "      <td>2016</td>\n",
       "      <td>17000</td>\n",
       "      <td>Automatic</td>\n",
       "      <td>29947</td>\n",
       "      <td>Diesel</td>\n",
       "      <td>61.4</td>\n",
       "      <td>2.1</td>\n",
       "    </tr>\n",
       "    <tr>\n",
       "      <th>1</th>\n",
       "      <td>C Class</td>\n",
       "      <td>2016</td>\n",
       "      <td>17799</td>\n",
       "      <td>Automatic</td>\n",
       "      <td>53613</td>\n",
       "      <td>Diesel</td>\n",
       "      <td>64.2</td>\n",
       "      <td>2.1</td>\n",
       "    </tr>\n",
       "    <tr>\n",
       "      <th>2</th>\n",
       "      <td>E Class</td>\n",
       "      <td>2014</td>\n",
       "      <td>14499</td>\n",
       "      <td>Semi-Auto</td>\n",
       "      <td>33702</td>\n",
       "      <td>Diesel</td>\n",
       "      <td>54.3</td>\n",
       "      <td>2.1</td>\n",
       "    </tr>\n",
       "    <tr>\n",
       "      <th>3</th>\n",
       "      <td>C Class</td>\n",
       "      <td>2016</td>\n",
       "      <td>19698</td>\n",
       "      <td>Automatic</td>\n",
       "      <td>25107</td>\n",
       "      <td>Hybrid</td>\n",
       "      <td>134.5</td>\n",
       "      <td>2.0</td>\n",
       "    </tr>\n",
       "    <tr>\n",
       "      <th>4</th>\n",
       "      <td>B Class</td>\n",
       "      <td>2017</td>\n",
       "      <td>15490</td>\n",
       "      <td>Semi-Auto</td>\n",
       "      <td>28000</td>\n",
       "      <td>Petrol</td>\n",
       "      <td>51.4</td>\n",
       "      <td>1.6</td>\n",
       "    </tr>\n",
       "    <tr>\n",
       "      <th>...</th>\n",
       "      <td>...</td>\n",
       "      <td>...</td>\n",
       "      <td>...</td>\n",
       "      <td>...</td>\n",
       "      <td>...</td>\n",
       "      <td>...</td>\n",
       "      <td>...</td>\n",
       "      <td>...</td>\n",
       "    </tr>\n",
       "    <tr>\n",
       "      <th>15177</th>\n",
       "      <td>GLE Class</td>\n",
       "      <td>2017</td>\n",
       "      <td>30599</td>\n",
       "      <td>Semi-Auto</td>\n",
       "      <td>23732</td>\n",
       "      <td>Diesel</td>\n",
       "      <td>47.9</td>\n",
       "      <td>2.1</td>\n",
       "    </tr>\n",
       "    <tr>\n",
       "      <th>15178</th>\n",
       "      <td>C Class</td>\n",
       "      <td>2016</td>\n",
       "      <td>14998</td>\n",
       "      <td>Semi-Auto</td>\n",
       "      <td>66732</td>\n",
       "      <td>Hybrid</td>\n",
       "      <td>78.5</td>\n",
       "      <td>2.1</td>\n",
       "    </tr>\n",
       "    <tr>\n",
       "      <th>15179</th>\n",
       "      <td>A Class</td>\n",
       "      <td>2017</td>\n",
       "      <td>16000</td>\n",
       "      <td>Semi-Auto</td>\n",
       "      <td>32000</td>\n",
       "      <td>Diesel</td>\n",
       "      <td>74.3</td>\n",
       "      <td>1.5</td>\n",
       "    </tr>\n",
       "    <tr>\n",
       "      <th>15180</th>\n",
       "      <td>A Class</td>\n",
       "      <td>2014</td>\n",
       "      <td>10990</td>\n",
       "      <td>Semi-Auto</td>\n",
       "      <td>49799</td>\n",
       "      <td>Diesel</td>\n",
       "      <td>68.9</td>\n",
       "      <td>2.1</td>\n",
       "    </tr>\n",
       "    <tr>\n",
       "      <th>15181</th>\n",
       "      <td>CL Class</td>\n",
       "      <td>2016</td>\n",
       "      <td>18300</td>\n",
       "      <td>Automatic</td>\n",
       "      <td>42550</td>\n",
       "      <td>Diesel</td>\n",
       "      <td>67.3</td>\n",
       "      <td>2.1</td>\n",
       "    </tr>\n",
       "  </tbody>\n",
       "</table>\n",
       "<p>15179 rows × 8 columns</p>\n",
       "</div>"
      ],
      "text/plain": [
       "            model  year  price transmission  mileage fuelType    mpg  \\\n",
       "0         C Class  2016  17000    Automatic    29947   Diesel   61.4   \n",
       "1         C Class  2016  17799    Automatic    53613   Diesel   64.2   \n",
       "2         E Class  2014  14499    Semi-Auto    33702   Diesel   54.3   \n",
       "3         C Class  2016  19698    Automatic    25107   Hybrid  134.5   \n",
       "4         B Class  2017  15490    Semi-Auto    28000   Petrol   51.4   \n",
       "...           ...   ...    ...          ...      ...      ...    ...   \n",
       "15177   GLE Class  2017  30599    Semi-Auto    23732   Diesel   47.9   \n",
       "15178     C Class  2016  14998    Semi-Auto    66732   Hybrid   78.5   \n",
       "15179     A Class  2017  16000    Semi-Auto    32000   Diesel   74.3   \n",
       "15180     A Class  2014  10990    Semi-Auto    49799   Diesel   68.9   \n",
       "15181    CL Class  2016  18300    Automatic    42550   Diesel   67.3   \n",
       "\n",
       "       engineSize  \n",
       "0             2.1  \n",
       "1             2.1  \n",
       "2             2.1  \n",
       "3             2.0  \n",
       "4             1.6  \n",
       "...           ...  \n",
       "15177         2.1  \n",
       "15178         2.1  \n",
       "15179         1.5  \n",
       "15180         2.1  \n",
       "15181         2.1  \n",
       "\n",
       "[15179 rows x 8 columns]"
      ]
     },
     "execution_count": 25,
     "metadata": {},
     "output_type": "execute_result"
    }
   ],
   "source": [
    "df"
   ]
  },
  {
   "cell_type": "code",
   "execution_count": 26,
   "metadata": {},
   "outputs": [
    {
     "data": {
      "image/png": "[encoded data removed]",
      "text/plain": [
       "<Figure size 864x576 with 1 Axes>"
      ]
     },
     "metadata": {
      "needs_background": "light"
     },
     "output_type": "display_data"
    }
   ],
   "source": [
    "import seaborn as sns\n",
    "import matplotlib.pyplot as plt\n",
    "average_price_per_model = df.groupby('transmission')['price'].mean().reset_index()\n",
    "\n",
    "# Sort the dataframe by average price\n",
    "average_price_per_model = average_price_per_model.sort_values(by='price')\n",
    "\n",
    "# Plot\n",
    "plt.figure(figsize=(12, 8))\n",
    "plt.bar(average_price_per_model['transmission'], average_price_per_model['price'], color='skyblue')\n",
    "plt.xlabel('Transmisson')\n",
    "plt.ylabel('Average Price')\n",
    "plt.title('Transmisson')\n",
    "plt.xticks(rotation=45)\n",
    "plt.grid(axis='y')\n",
    "plt.tight_layout()\n",
    "plt.show()"
   ]
  },
  {
   "cell_type": "code",
   "execution_count": 27,
   "metadata": {},
   "outputs": [
    {
     "data": {
      "image/png": "[encoded data removed]",
      "text/plain": [
       "<Figure size 864x576 with 1 Axes>"
      ]
     },
     "metadata": {
      "needs_background": "light"
     },
     "output_type": "display_data"
    }
   ],
   "source": [
    "import seaborn as sns\n",
    "import matplotlib.pyplot as plt\n",
    "average_price_per_model = df.groupby('fuelType')['price'].mean().reset_index()\n",
    "\n",
    "# Sort the dataframe by average price\n",
    "average_price_per_model = average_price_per_model.sort_values(by='price')\n",
    "\n",
    "# Plot\n",
    "plt.figure(figsize=(12, 8))\n",
    "plt.bar(average_price_per_model['fuelType'], average_price_per_model['price'], color='skyblue')\n",
    "plt.xlabel('fuelType')\n",
    "plt.ylabel('Average Price')\n",
    "plt.title('Transmisson')\n",
    "plt.xticks(rotation=45)\n",
    "plt.grid(axis='y')\n",
    "plt.tight_layout()\n",
    "plt.show()"
   ]
  },
  {
   "cell_type": "code",
   "execution_count": 28,
   "metadata": {},
   "outputs": [
    {
     "data": {
      "text/html": [
       "<div>\n",
       "<style scoped>\n",
       "    .dataframe tbody tr th:only-of-type {\n",
       "        vertical-align: middle;\n",
       "    }\n",
       "\n",
       "    .dataframe tbody tr th {\n",
       "        vertical-align: top;\n",
       "    }\n",
       "\n",
       "    .dataframe thead th {\n",
       "        text-align: right;\n",
       "    }\n",
       "</style>\n",
       "<table border=\"1\" class=\"dataframe\">\n",
       "  <thead>\n",
       "    <tr style=\"text-align: right;\">\n",
       "      <th></th>\n",
       "      <th>model</th>\n",
       "      <th>year</th>\n",
       "      <th>price</th>\n",
       "      <th>transmission</th>\n",
       "      <th>mileage</th>\n",
       "      <th>fuelType</th>\n",
       "      <th>mpg</th>\n",
       "      <th>engineSize</th>\n",
       "    </tr>\n",
       "  </thead>\n",
       "  <tbody>\n",
       "    <tr>\n",
       "      <th>0</th>\n",
       "      <td>C Class</td>\n",
       "      <td>2016</td>\n",
       "      <td>17000</td>\n",
       "      <td>Automatic</td>\n",
       "      <td>29947</td>\n",
       "      <td>Diesel</td>\n",
       "      <td>61.4</td>\n",
       "      <td>2.1</td>\n",
       "    </tr>\n",
       "    <tr>\n",
       "      <th>1</th>\n",
       "      <td>C Class</td>\n",
       "      <td>2016</td>\n",
       "      <td>17799</td>\n",
       "      <td>Automatic</td>\n",
       "      <td>53613</td>\n",
       "      <td>Diesel</td>\n",
       "      <td>64.2</td>\n",
       "      <td>2.1</td>\n",
       "    </tr>\n",
       "    <tr>\n",
       "      <th>2</th>\n",
       "      <td>E Class</td>\n",
       "      <td>2014</td>\n",
       "      <td>14499</td>\n",
       "      <td>Semi-Auto</td>\n",
       "      <td>33702</td>\n",
       "      <td>Diesel</td>\n",
       "      <td>54.3</td>\n",
       "      <td>2.1</td>\n",
       "    </tr>\n",
       "    <tr>\n",
       "      <th>3</th>\n",
       "      <td>C Class</td>\n",
       "      <td>2016</td>\n",
       "      <td>19698</td>\n",
       "      <td>Automatic</td>\n",
       "      <td>25107</td>\n",
       "      <td>Hybrid</td>\n",
       "      <td>134.5</td>\n",
       "      <td>2.0</td>\n",
       "    </tr>\n",
       "    <tr>\n",
       "      <th>4</th>\n",
       "      <td>B Class</td>\n",
       "      <td>2017</td>\n",
       "      <td>15490</td>\n",
       "      <td>Semi-Auto</td>\n",
       "      <td>28000</td>\n",
       "      <td>Petrol</td>\n",
       "      <td>51.4</td>\n",
       "      <td>1.6</td>\n",
       "    </tr>\n",
       "    <tr>\n",
       "      <th>...</th>\n",
       "      <td>...</td>\n",
       "      <td>...</td>\n",
       "      <td>...</td>\n",
       "      <td>...</td>\n",
       "      <td>...</td>\n",
       "      <td>...</td>\n",
       "      <td>...</td>\n",
       "      <td>...</td>\n",
       "    </tr>\n",
       "    <tr>\n",
       "      <th>15177</th>\n",
       "      <td>GLE Class</td>\n",
       "      <td>2017</td>\n",
       "      <td>30599</td>\n",
       "      <td>Semi-Auto</td>\n",
       "      <td>23732</td>\n",
       "      <td>Diesel</td>\n",
       "      <td>47.9</td>\n",
       "      <td>2.1</td>\n",
       "    </tr>\n",
       "    <tr>\n",
       "      <th>15178</th>\n",
       "      <td>C Class</td>\n",
       "      <td>2016</td>\n",
       "      <td>14998</td>\n",
       "      <td>Semi-Auto</td>\n",
       "      <td>66732</td>\n",
       "      <td>Hybrid</td>\n",
       "      <td>78.5</td>\n",
       "      <td>2.1</td>\n",
       "    </tr>\n",
       "    <tr>\n",
       "      <th>15179</th>\n",
       "      <td>A Class</td>\n",
       "      <td>2017</td>\n",
       "      <td>16000</td>\n",
       "      <td>Semi-Auto</td>\n",
       "      <td>32000</td>\n",
       "      <td>Diesel</td>\n",
       "      <td>74.3</td>\n",
       "      <td>1.5</td>\n",
       "    </tr>\n",
       "    <tr>\n",
       "      <th>15180</th>\n",
       "      <td>A Class</td>\n",
       "      <td>2014</td>\n",
       "      <td>10990</td>\n",
       "      <td>Semi-Auto</td>\n",
       "      <td>49799</td>\n",
       "      <td>Diesel</td>\n",
       "      <td>68.9</td>\n",
       "      <td>2.1</td>\n",
       "    </tr>\n",
       "    <tr>\n",
       "      <th>15181</th>\n",
       "      <td>CL Class</td>\n",
       "      <td>2016</td>\n",
       "      <td>18300</td>\n",
       "      <td>Automatic</td>\n",
       "      <td>42550</td>\n",
       "      <td>Diesel</td>\n",
       "      <td>67.3</td>\n",
       "      <td>2.1</td>\n",
       "    </tr>\n",
       "  </tbody>\n",
       "</table>\n",
       "<p>15179 rows × 8 columns</p>\n",
       "</div>"
      ],
      "text/plain": [
       "            model  year  price transmission  mileage fuelType    mpg  \\\n",
       "0         C Class  2016  17000    Automatic    29947   Diesel   61.4   \n",
       "1         C Class  2016  17799    Automatic    53613   Diesel   64.2   \n",
       "2         E Class  2014  14499    Semi-Auto    33702   Diesel   54.3   \n",
       "3         C Class  2016  19698    Automatic    25107   Hybrid  134.5   \n",
       "4         B Class  2017  15490    Semi-Auto    28000   Petrol   51.4   \n",
       "...           ...   ...    ...          ...      ...      ...    ...   \n",
       "15177   GLE Class  2017  30599    Semi-Auto    23732   Diesel   47.9   \n",
       "15178     C Class  2016  14998    Semi-Auto    66732   Hybrid   78.5   \n",
       "15179     A Class  2017  16000    Semi-Auto    32000   Diesel   74.3   \n",
       "15180     A Class  2014  10990    Semi-Auto    49799   Diesel   68.9   \n",
       "15181    CL Class  2016  18300    Automatic    42550   Diesel   67.3   \n",
       "\n",
       "       engineSize  \n",
       "0             2.1  \n",
       "1             2.1  \n",
       "2             2.1  \n",
       "3             2.0  \n",
       "4             1.6  \n",
       "...           ...  \n",
       "15177         2.1  \n",
       "15178         2.1  \n",
       "15179         1.5  \n",
       "15180         2.1  \n",
       "15181         2.1  \n",
       "\n",
       "[15179 rows x 8 columns]"
      ]
     },
     "execution_count": 28,
     "metadata": {},
     "output_type": "execute_result"
    }
   ],
   "source": [
    "df"
   ]
  },
  {
   "cell_type": "code",
   "execution_count": 29,
   "metadata": {},
   "outputs": [],
   "source": [
    "df.to_csv('data_model_merc.csv',index=False)"
   ]
  },
  {
   "cell_type": "code",
   "execution_count": null,
   "metadata": {},
   "outputs": [],
   "source": []
  },
  {
   "cell_type": "code",
   "execution_count": null,
   "metadata": {},
   "outputs": [],
   "source": []
  },
  {
   "cell_type": "code",
   "execution_count": null,
   "metadata": {},
   "outputs": [],
   "source": []
  },
  {
   "cell_type": "code",
   "execution_count": null,
   "metadata": {},
   "outputs": [],
   "source": []
  },
  {
   "cell_type": "code",
   "execution_count": null,
   "metadata": {},
   "outputs": [],
   "source": []
  },
  {
   "cell_type": "code",
   "execution_count": null,
   "metadata": {},
   "outputs": [],
   "source": []
  },
  {
   "cell_type": "code",
   "execution_count": null,
   "metadata": {},
   "outputs": [],
   "source": []
  },
  {
   "cell_type": "code",
   "execution_count": null,
   "metadata": {},
   "outputs": [],
   "source": []
  },
  {
   "cell_type": "code",
   "execution_count": null,
   "metadata": {},
   "outputs": [],
   "source": []
  },
  {
   "cell_type": "code",
   "execution_count": null,
   "metadata": {},
   "outputs": [],
   "source": []
  },
  {
   "cell_type": "code",
   "execution_count": null,
   "metadata": {},
   "outputs": [],
   "source": []
  },
  {
   "cell_type": "code",
   "execution_count": null,
   "metadata": {},
   "outputs": [],
   "source": []
  }
 ],
 "metadata": {
  "kernelspec": {
   "display_name": "Python 3.9.12 ('base')",
   "language": "python",
   "name": "python3"
  },
  "language_info": {
   "codemirror_mode": {
    "name": "ipython",
    "version": 3
   },
   "file_extension": ".py",
   "mimetype": "text/x-python",
   "name": "python",
   "nbconvert_exporter": "python",
   "pygments_lexer": "ipython3",
   "version": "3.9.12"
  },
  "orig_nbformat": 4,
  "vscode": {
   "interpreter": {
    "hash": "e66c12fa165c4521107f9d407fd84d03277064fe314ee738b3a872558a8f6819"
   }
  }
 },
 "nbformat": 4,
 "nbformat_minor": 2
}
